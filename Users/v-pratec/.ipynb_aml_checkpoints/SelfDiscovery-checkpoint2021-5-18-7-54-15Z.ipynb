{
  "cells": [
    {
      "cell_type": "code",
      "execution_count": 1,
      "metadata": {},
      "outputs": [],
      "source": [
        "# azureml-core of version 1.0.72 or higher is required\n",
        "# azureml-dataprep[pandas] of version 1.1.34 or higher is required\n",
        "from azureml.core import Workspace, Dataset\n",
        "\n",
        "subscription_id = 'c01a4630-cc02-4828-9991-41259d9cb1a4'\n",
        "resource_group = 'bot-resource-group'\n",
        "workspace_name = 'MindNotesAnalysis'\n",
        "\n",
        "workspace = Workspace(subscription_id, resource_group, workspace_name)\n",
        "\n",
        "dataset = Dataset.get_by_name(workspace, name='UserDetails')\n",
        "df = dataset.to_pandas_dataframe()"
      ]
    },
    {
      "cell_type": "code",
      "execution_count": 2,
      "metadata": {},
      "outputs": [],
      "source": [
        "import json\n",
        "\n",
        "jsonData = json.loads(df[\"AppState\"][1])\n",
        "\n",
        "selfDiscoveryDf = jsonData[\"selfDiscoveryState\"]\n"
      ]
    },
    {
      "cell_type": "code",
      "execution_count": 3,
      "metadata": {},
      "outputs": [
        {
          "data": {
            "text/plain": [
              "{'showBackButtonModal': False,\n",
              " 'showIntro': False,\n",
              " 'level1': {'isLocked': False,\n",
              "  'responses': {'1': {'answer': 'more than a year', 'prev': None, 'next': 2},\n",
              "   '2': {'answer': 'rarely', 'prev': 1, 'next': 3},\n",
              "   '3': {'answer': 'very often', 'prev': 2, 'next': 4},\n",
              "   '4': {'answer': 'not confident at all', 'prev': 3, 'next': None}},\n",
              "  'progressValue': 100},\n",
              " 'level2': {'isLocked': False,\n",
              "  'responses': {'DiscoveringEmotionResponse': {'quid1': {'answer': {'quid1': {'2': True}},\n",
              "     'next': 'quid2',\n",
              "     'prev': None},\n",
              "    'quid2': {'answer': {'quid2': {'3': True, '4': False}},\n",
              "     'next': 'quid1',\n",
              "     'prev': 'quid2'}},\n",
              "   'VignetteSectionResponse': {'quid4': {'answer': 'very similar',\n",
              "     'next': 'quid1'},\n",
              "    'quid1': {'answer': 'very similar', 'next': 'quid2', 'prev': 'quid4'},\n",
              "    'quid2': {'answer': 'very similar', 'next': 'quid3', 'prev': 'quid1'},\n",
              "    'quid3': {'answer': 'very similar', 'next': 'quid5', 'prev': 'quid2'},\n",
              "    'quid5': {'answer': 'very similar', 'prev': 'quid3'}}},\n",
              "  'progressValue': 100},\n",
              " 'level3': {'isLocked': False,\n",
              "  'responses': {'GADSectionResponse': {'quid1': {'answer': '4',\n",
              "     'next': 'quid2',\n",
              "     'prev': ''},\n",
              "    'quid2': {'answer': '4', 'next': 'quid3', 'prev': ''},\n",
              "    'quid3': {'answer': '4', 'next': 'quid4', 'prev': ''},\n",
              "    'quid4': {'answer': '4', 'next': 'quid5', 'prev': ''},\n",
              "    'quid5': {'answer': '4', 'next': 'quid6', 'prev': ''},\n",
              "    'quid6': {'answer': '4', 'next': 'quid7', 'prev': ''},\n",
              "    'quid7': {'answer': '4', 'next': 'quid8', 'prev': ''}},\n",
              "   'WsasResponse': {'quid1': {'answer': '4', 'next': 'quid2'},\n",
              "    'quid2': {'answer': '0', 'next': 'quid3'},\n",
              "    'quid3': {'answer': '0', 'next': 'quid4'},\n",
              "    'quid4': {'answer': '0', 'next': 'quid5'},\n",
              "    'quid5': {'answer': '0'}},\n",
              "   'PHQSectionResponse': {'quid1': {'answer': '4',\n",
              "     'next': 'quid2',\n",
              "     'prev': ''},\n",
              "    'quid2': {'answer': '4', 'next': 'quid3', 'prev': ''},\n",
              "    'quid3': {'answer': '4', 'next': 'quid4', 'prev': ''},\n",
              "    'quid4': {'answer': '4', 'next': 'quid5', 'prev': ''},\n",
              "    'quid5': {'answer': '4', 'next': 'quid6', 'prev': ''},\n",
              "    'quid6': {'answer': '4', 'next': 'quid7', 'prev': ''},\n",
              "    'quid7': {'answer': '4', 'next': 'quid8', 'prev': ''},\n",
              "    'quid8': {'answer': '4', 'next': 'quid9', 'prev': ''},\n",
              "    'quid9': {'answer': '4', 'prev': ''}},\n",
              "   'SuicideSectionResponse': {'quid1': {'answer': '2',\n",
              "     'next': 'quid2',\n",
              "     'prev': '',\n",
              "     'freeTextResponse': ''},\n",
              "    'quid2': {'answer': '1',\n",
              "     'next': 'quid3',\n",
              "     'prev': '',\n",
              "     'freeTextResponse': ''},\n",
              "    'quid3': {'answer': '1',\n",
              "     'next': 'quid4',\n",
              "     'prev': '',\n",
              "     'freeTextResponse': ''},\n",
              "    'quid4': {'answer': '2',\n",
              "     'next': 'quid5',\n",
              "     'prev': '',\n",
              "     'freeTextResponse': 'Idk 🤔'}}},\n",
              "  'homeState': {'homeTypeChosen': 'type3',\n",
              "   'lowCard': {'locked': False, 'completed': True},\n",
              "   'anxiousCard': {'locked': False, 'completed': True},\n",
              "   'result': {'completed': False, 'locked': False},\n",
              "   'functioningCard': {'locked': False, 'completed': True}},\n",
              "  'progressValue': 100}}"
            ]
          },
          "execution_count": 3,
          "metadata": {},
          "output_type": "execute_result"
        }
      ],
      "source": [
        "selfDiscoveryDf"
      ]
    },
    {
      "cell_type": "code",
      "execution_count": 4,
      "metadata": {},
      "outputs": [],
      "source": [
        "import enum\n",
        "\n",
        "class LevelNumber(enum.Enum):\n",
        "    level1 = \"level1\"\n",
        "    level2 = \"level2\"\n",
        "    level3 = \"level3\"\n",
        "  \n",
        "def checkLevelLockStatus(levelName, selfDiscoveryDf):\n",
        "    return selfDiscoveryDf[levelName][\"isLocked\"]\n",
        "\n",
        "def checkLevelProgressStatus(levelName, selfDiscoveryDf):\n",
        "    return selfDiscoveryDf[levelName][\"progressValue\"]\n",
        "\n",
        "\n",
        "# Seperate if else conditions added since later each code block would be customized per level\n",
        "def checkSCResponses(levelType, selfDiscoveryDf):\n",
        "    if(levelType == LevelNumber.level1):\n",
        "        respDict = selfDiscoveryDf[\"level1\"][\"responses\"]\n",
        "        resp = {}\n",
        "        for ke in respDict.keys():\n",
        "            key_resp = \"Q\"+ \"_\" + ke\n",
        "            resp[key_resp] = respDict[ke][\"answer\"]\n",
        "        return resp\n",
        "    elif(levelType == LevelNumber.level2):\n",
        "        respDict = selfDiscoveryDf[\"level2\"][\"responses\"]\n",
        "        resp = {}\n",
        "        questionList = [\"timeOfRecording\", \"Think of a recent situation when you were critical towards yourself. Write down your self critical thoughts\", \"ACT1:Mindfulness\", \"ACT2:Common humanity\", \"ACT3:Kindness\"]\n",
        "        for ke in respDict.keys():\n",
        "            key_resp = \"Q\"+ \"_\" + ke\n",
        "            localResp = {}\n",
        "            for item in range(len(questionList)):\n",
        "                localResp[questionList[item]] =  respDict[ke][\"answer\"][item]\n",
        "            resp[key_resp] = localResp\n",
        "        return resp\n",
        "    else:\n",
        "        respDict = selfDiscoveryDf[\"level3\"][\"responses\"]\n",
        "        resp = {}\n",
        "        questionList = [\"timeOfRecording\", \"Think of and describe about a current struggle.\",\"Express:Mindfulness\", \"Express:Common humanity\", \"Express:Kindness\"]\n",
        "\n",
        "        for ke in respDict.keys():\n",
        "            key_resp = \"Q\"+ \"_\" + ke\n",
        "            localResp = {}\n",
        "            for item in range(len(questionList)):\n",
        "                localResp[questionList[item]] =  respDict[ke][\"answer\"][item]\n",
        "            resp[key_resp] = localResp      \n",
        "        return resp\n",
        "\n",
        "\n"
      ]
    },
    {
      "cell_type": "code",
      "execution_count": 5,
      "metadata": {},
      "outputs": [
        {
          "data": {
            "text/plain": [
              "100"
            ]
          },
          "execution_count": 5,
          "metadata": {},
          "output_type": "execute_result"
        }
      ],
      "source": [
        "checkLevelProgressStatus(\"level3\", selfDiscoveryDf)"
      ]
    },
    {
      "cell_type": "code",
      "execution_count": 6,
      "metadata": {},
      "outputs": [
        {
          "data": {
            "text/plain": [
              "{'Q_1': 'more than a year',\n",
              " 'Q_2': 'rarely',\n",
              " 'Q_3': 'very often',\n",
              " 'Q_4': 'not confident at all'}"
            ]
          },
          "execution_count": 6,
          "metadata": {},
          "output_type": "execute_result"
        }
      ],
      "source": [
        "checkSCResponses(LevelNumber.level1, selfDiscoveryDf)"
      ]
    },
    {
      "cell_type": "code",
      "execution_count": 7,
      "metadata": {},
      "outputs": [
        {
          "data": {
            "text/plain": [
              "{'homeTypeChosen': 'type3',\n",
              " 'lowCard': {'locked': False, 'completed': True},\n",
              " 'anxiousCard': {'locked': False, 'completed': True},\n",
              " 'result': {'completed': False, 'locked': False},\n",
              " 'functioningCard': {'locked': False, 'completed': True}}"
            ]
          },
          "execution_count": 7,
          "metadata": {},
          "output_type": "execute_result"
        }
      ],
      "source": [
        "selfDiscoveryDf[\"level3\"][\"homeState\"]"
      ]
    },
    {
      "cell_type": "code",
      "execution_count": 8,
      "metadata": {},
      "outputs": [],
      "source": [
        "def checkSelfDiscoveryHomeState(selfDiscoveryDf):\n",
        "    typeChosen = selfDiscoveryDf[\"level3\"][\"homeState\"][\"homeTypeChosen\"]\n",
        "    return typeChosen"
      ]
    },
    {
      "cell_type": "code",
      "execution_count": 9,
      "metadata": {},
      "outputs": [],
      "source": [
        "def iterateForAllUsers():\n",
        "    total = df[\"AppState\"].size\n",
        "    userMapping = {}\n",
        "    for user in range(total):\n",
        "        jsonData = json.loads(df[\"AppState\"][user])\n",
        "        selfDiscoveryDf = jsonData[\"selfDiscoveryState\"]\n",
        "        userMapping[df[\"UserId\"][user]] = checkSelfDiscoveryHomeState(selfDiscoveryDf)\n",
        "    return userMapping\n",
        "\n",
        "def checkLevel1ResponsesForAll():\n",
        "    total = df[\"AppState\"].size\n",
        "    userMapping = {}\n",
        "    for user in range(total):\n",
        "        jsonData = json.loads(df[\"AppState\"][user])\n",
        "        selfDiscoveryDf = jsonData[\"selfDiscoveryState\"]\n",
        "        userMapping[df[\"UserId\"][user]] = checkSCResponses(LevelNumber.level1, selfDiscoveryDf)\n",
        "    return userMapping\n",
        "\n",
        "\n"
      ]
    },
    {
      "cell_type": "code",
      "execution_count": 10,
      "metadata": {},
      "outputs": [],
      "source": [
        "userMapping = iterateForAllUsers()"
      ]
    },
    {
      "cell_type": "markdown",
      "metadata": {},
      "source": []
    },
    {
      "cell_type": "markdown",
      "metadata": {},
      "source": [
        "## Plotting Level 3 Self Discovery \n",
        "Plotting the number of Users who chose Type2/Type3/Type1 or didnt visit SelfDiscovery Level3 at all"
      ]
    },
    {
      "cell_type": "code",
      "execution_count": 11,
      "metadata": {},
      "outputs": [],
      "source": [
        "def checkCountType(typeHome,userMapping):\n",
        "    count =0\n",
        "    for k in userMapping.keys():\n",
        "        if(userMapping[k] == typeHome):\n",
        "            count += 1\n",
        "    return count\n"
      ]
    },
    {
      "cell_type": "code",
      "execution_count": 12,
      "metadata": {},
      "outputs": [
        {
          "data": {
            "text/plain": [
              "2"
            ]
          },
          "execution_count": 12,
          "metadata": {},
          "output_type": "execute_result"
        }
      ],
      "source": [
        "checkCountType('type2', userMapping)"
      ]
    },
    {
      "cell_type": "code",
      "execution_count": null,
      "metadata": {},
      "outputs": [],
      "source": []
    },
    {
      "cell_type": "code",
      "execution_count": 13,
      "metadata": {},
      "outputs": [
        {
          "data": {
            "image/png": "[encoded data removed]",
            "text/plain": [
              "<Figure size 432x288 with 1 Axes>"
            ]
          },
          "metadata": {
            "needs_background": "light"
          },
          "output_type": "display_data"
        }
      ],
      "source": [
        "# SD Level 3 Check which Type chosen\n",
        "import matplotlib.pyplot as plt\n",
        "import pandas as pd\n",
        "homeTypes = [None, 'type1', 'type2', 'type3']\n",
        "plotdata = pd.DataFrame(\n",
        "    {\"SD Level 3 Type\": [checkCountType(typeHome, userMapping) for typeHome in homeTypes]}, \n",
        "    index=homeTypes)\n",
        "# Plot a bar chart\n",
        "plotdata.plot(kind=\"bar\")\n",
        "plt.xlabel(\"Level 3 Home Type Chosen\")\n",
        "plt.ylabel(\"user Count\")\n",
        "plt.figtext(.6, .5, \"None = user didnt visit\") \n",
        "plt.figtext(.5,.4, \"T1 = anxiety, T2 = depression\") \n",
        "plt.figtext(.6, .3, \"T3 = anxiety & depression\")\n",
        "plt.savefig('./Plots/SelfDiscovery/SDLevel3Type.png')"
      ]
    },
    {
      "cell_type": "code",
      "execution_count": 14,
      "metadata": {},
      "outputs": [
        {
          "data": {
            "text/plain": [
              "{'isLocked': False,\n",
              " 'responses': {'1': {'answer': 'more than a year', 'prev': None, 'next': 2},\n",
              "  '2': {'answer': 'rarely', 'prev': 1, 'next': 3},\n",
              "  '3': {'answer': 'very often', 'prev': 2, 'next': 4},\n",
              "  '4': {'answer': 'not confident at all', 'prev': 3, 'next': None}},\n",
              " 'progressValue': 100}"
            ]
          },
          "execution_count": 14,
          "metadata": {},
          "output_type": "execute_result"
        }
      ],
      "source": [
        "selfDiscoveryDf[\"level1\"]"
      ]
    },
    {
      "cell_type": "code",
      "execution_count": 15,
      "metadata": {},
      "outputs": [
        {
          "data": {
            "text/plain": [
              "{'Q_1': 'more than a year',\n",
              " 'Q_2': 'rarely',\n",
              " 'Q_3': 'very often',\n",
              " 'Q_4': 'not confident at all'}"
            ]
          },
          "execution_count": 15,
          "metadata": {},
          "output_type": "execute_result"
        }
      ],
      "source": [
        "checkSCResponses(LevelNumber.level1, selfDiscoveryDf)"
      ]
    },
    {
      "cell_type": "code",
      "execution_count": 16,
      "metadata": {},
      "outputs": [
        {
          "data": {
            "text/plain": [
              "{'5704b8c3-0e67-4127-4d78-08d8cc33525c': {'Q_1': 'a week',\n",
              "  'Q_2': 'rarely',\n",
              "  'Q_3': 'rarely',\n",
              "  'Q_4': 'not confident at all'},\n",
              " 'b93d2a00-fe4a-4b0f-4d7a-08d8cc33525c': {'Q_1': 'more than a year',\n",
              "  'Q_2': 'rarely',\n",
              "  'Q_3': 'very often',\n",
              "  'Q_4': 'not confident at all'},\n",
              " 'b6a54ac9-3268-4ecb-4d7b-08d8cc33525c': {},\n",
              " '4d65f14e-74b2-4077-4d7e-08d8cc33525c': {'Q_1': 'more than a year',\n",
              "  'Q_2': 'often',\n",
              "  'Q_3': 'sometimes',\n",
              "  'Q_4': 'very confident'},\n",
              " '46557658-06af-4808-4d7f-08d8cc33525c': {'Q_1': 'a year',\n",
              "  'Q_2': 'rarely',\n",
              "  'Q_3': 'often',\n",
              "  'Q_4': 'slightly confident'},\n",
              " 'c1f1cfbb-28b0-4788-4d80-08d8cc33525c': {'Q_1': 'a week',\n",
              "  'Q_2': 'very often',\n",
              "  'Q_3': 'rarely',\n",
              "  'Q_4': 'very confident'},\n",
              " 'adeb096a-0090-4191-4d81-08d8cc33525c': {'Q_1': 'a year',\n",
              "  'Q_2': 'often',\n",
              "  'Q_3': 'very often',\n",
              "  'Q_4': 'fairly confident'},\n",
              " '17cb7b35-4653-4c2f-4d82-08d8cc33525c': {},\n",
              " '8ab775d5-6848-4687-4d83-08d8cc33525c': {},\n",
              " 'f1031320-6c06-41bb-4d86-08d8cc33525c': {},\n",
              " '560fce02-1819-4493-4d87-08d8cc33525c': {},\n",
              " '3e6c01d2-603b-4553-4d88-08d8cc33525c': {},\n",
              " '18570ac4-1dda-46e5-bc91-08d8d6f4dffc': {},\n",
              " 'c88ec046-af5b-42e4-e5a7-08d8deeb08c6': {},\n",
              " '474bedfb-bfe7-4fbb-e5a8-08d8deeb08c6': {},\n",
              " 'e8e95a0c-0267-4201-7b10-08d8f45c19aa': {},\n",
              " 'cfc020c0-1b36-4a41-c041-08d8f98f9467': {},\n",
              " '214df20d-8b7b-470c-7783-08d9000d5fcd': {},\n",
              " '5b833480-ed73-40a3-7784-08d9000d5fcd': {}}"
            ]
          },
          "execution_count": 16,
          "metadata": {},
          "output_type": "execute_result"
        }
      ],
      "source": [
        "checkLevel1ResponsesForAll()\n"
      ]
    },
    {
      "cell_type": "markdown",
      "metadata": {},
      "source": [
        "Check the association strength between a particular SD L1 Question and its response."
      ]
    },
    {
      "cell_type": "markdown",
      "metadata": {},
      "source": [
        "Check for one-hot encoding\n",
        "\n",
        "https://www.geeksforgeeks.org/ml-one-hot-encoding-of-datasets-in-python/\n",
        "\n",
        "One-hot encoding for the responses can be done."
      ]
    },
    {
      "cell_type": "markdown",
      "metadata": {},
      "source": [
        "# Creating a Dataframe\n"
      ]
    },
    {
      "cell_type": "code",
      "execution_count": 17,
      "metadata": {},
      "outputs": [
        {
          "data": {
            "text/plain": [
              "{'showBackButtonModal': False,\n",
              " 'showIntro': False,\n",
              " 'level1': {'isLocked': False,\n",
              "  'responses': {'1': {'answer': 'more than a year', 'prev': None, 'next': 2},\n",
              "   '2': {'answer': 'rarely', 'prev': 1, 'next': 3},\n",
              "   '3': {'answer': 'very often', 'prev': 2, 'next': 4},\n",
              "   '4': {'answer': 'not confident at all', 'prev': 3, 'next': None}},\n",
              "  'progressValue': 100},\n",
              " 'level2': {'isLocked': False,\n",
              "  'responses': {'DiscoveringEmotionResponse': {'quid1': {'answer': {'quid1': {'2': True}},\n",
              "     'next': 'quid2',\n",
              "     'prev': None},\n",
              "    'quid2': {'answer': {'quid2': {'3': True, '4': False}},\n",
              "     'next': 'quid1',\n",
              "     'prev': 'quid2'}},\n",
              "   'VignetteSectionResponse': {'quid4': {'answer': 'very similar',\n",
              "     'next': 'quid1'},\n",
              "    'quid1': {'answer': 'very similar', 'next': 'quid2', 'prev': 'quid4'},\n",
              "    'quid2': {'answer': 'very similar', 'next': 'quid3', 'prev': 'quid1'},\n",
              "    'quid3': {'answer': 'very similar', 'next': 'quid5', 'prev': 'quid2'},\n",
              "    'quid5': {'answer': 'very similar', 'prev': 'quid3'}}},\n",
              "  'progressValue': 100},\n",
              " 'level3': {'isLocked': False,\n",
              "  'responses': {'GADSectionResponse': {'quid1': {'answer': '4',\n",
              "     'next': 'quid2',\n",
              "     'prev': ''},\n",
              "    'quid2': {'answer': '4', 'next': 'quid3', 'prev': ''},\n",
              "    'quid3': {'answer': '4', 'next': 'quid4', 'prev': ''},\n",
              "    'quid4': {'answer': '4', 'next': 'quid5', 'prev': ''},\n",
              "    'quid5': {'answer': '4', 'next': 'quid6', 'prev': ''},\n",
              "    'quid6': {'answer': '4', 'next': 'quid7', 'prev': ''},\n",
              "    'quid7': {'answer': '4', 'next': 'quid8', 'prev': ''}},\n",
              "   'WsasResponse': {'quid1': {'answer': '4', 'next': 'quid2'},\n",
              "    'quid2': {'answer': '0', 'next': 'quid3'},\n",
              "    'quid3': {'answer': '0', 'next': 'quid4'},\n",
              "    'quid4': {'answer': '0', 'next': 'quid5'},\n",
              "    'quid5': {'answer': '0'}},\n",
              "   'PHQSectionResponse': {'quid1': {'answer': '4',\n",
              "     'next': 'quid2',\n",
              "     'prev': ''},\n",
              "    'quid2': {'answer': '4', 'next': 'quid3', 'prev': ''},\n",
              "    'quid3': {'answer': '4', 'next': 'quid4', 'prev': ''},\n",
              "    'quid4': {'answer': '4', 'next': 'quid5', 'prev': ''},\n",
              "    'quid5': {'answer': '4', 'next': 'quid6', 'prev': ''},\n",
              "    'quid6': {'answer': '4', 'next': 'quid7', 'prev': ''},\n",
              "    'quid7': {'answer': '4', 'next': 'quid8', 'prev': ''},\n",
              "    'quid8': {'answer': '4', 'next': 'quid9', 'prev': ''},\n",
              "    'quid9': {'answer': '4', 'prev': ''}},\n",
              "   'SuicideSectionResponse': {'quid1': {'answer': '2',\n",
              "     'next': 'quid2',\n",
              "     'prev': '',\n",
              "     'freeTextResponse': ''},\n",
              "    'quid2': {'answer': '1',\n",
              "     'next': 'quid3',\n",
              "     'prev': '',\n",
              "     'freeTextResponse': ''},\n",
              "    'quid3': {'answer': '1',\n",
              "     'next': 'quid4',\n",
              "     'prev': '',\n",
              "     'freeTextResponse': ''},\n",
              "    'quid4': {'answer': '2',\n",
              "     'next': 'quid5',\n",
              "     'prev': '',\n",
              "     'freeTextResponse': 'Idk 🤔'}}},\n",
              "  'homeState': {'homeTypeChosen': 'type3',\n",
              "   'lowCard': {'locked': False, 'completed': True},\n",
              "   'anxiousCard': {'locked': False, 'completed': True},\n",
              "   'result': {'completed': False, 'locked': False},\n",
              "   'functioningCard': {'locked': False, 'completed': True}},\n",
              "  'progressValue': 100}}"
            ]
          },
          "execution_count": 17,
          "metadata": {},
          "output_type": "execute_result"
        }
      ],
      "source": [
        "selfDiscoveryDf"
      ]
    },
    {
      "cell_type": "code",
      "execution_count": 21,
      "metadata": {},
      "outputs": [
        {
          "data": {
            "text/html": [
              "<div>\n",
              "<style scoped>\n",
              "    .dataframe tbody tr th:only-of-type {\n",
              "        vertical-align: middle;\n",
              "    }\n",
              "\n",
              "    .dataframe tbody tr th {\n",
              "        vertical-align: top;\n",
              "    }\n",
              "\n",
              "    .dataframe thead th {\n",
              "        text-align: right;\n",
              "    }\n",
              "</style>\n",
              "<table border=\"1\" class=\"dataframe\">\n",
              "  <thead>\n",
              "    <tr style=\"text-align: right;\">\n",
              "      <th></th>\n",
              "      <th>SD Level 1 Progress</th>\n",
              "      <th>SD Level 2 Progress</th>\n",
              "      <th>SD Level 3 Progress</th>\n",
              "      <th>Level 1 Q1 Responses</th>\n",
              "      <th>Level 1 Q2 Responses</th>\n",
              "      <th>Level 1 Q3 Responses</th>\n",
              "      <th>Level 1 Q4 Responses</th>\n",
              "      <th>Level 2 Discovering Emotion Q1</th>\n",
              "      <th>Level 2 Discovering Emotion Q2</th>\n",
              "      <th>Vignette 1</th>\n",
              "      <th>Vignette 2</th>\n",
              "      <th>Vignette 3</th>\n",
              "      <th>Vignette 4</th>\n",
              "      <th>Vignette 5</th>\n",
              "      <th>Level 3 Home Type Chosen</th>\n",
              "      <th>PHQ Score</th>\n",
              "      <th>GAD Score</th>\n",
              "      <th>WSAS Score</th>\n",
              "    </tr>\n",
              "  </thead>\n",
              "  <tbody>\n",
              "  </tbody>\n",
              "</table>\n",
              "</div>"
            ],
            "text/plain": [
              "Empty DataFrame\n",
              "Columns: [SD Level 1 Progress, SD Level 2 Progress, SD Level 3 Progress, Level 1 Q1 Responses, Level 1 Q2 Responses, Level 1 Q3 Responses, Level 1 Q4 Responses, Level 2 Discovering Emotion Q1, Level 2 Discovering Emotion Q2, Vignette 1, Vignette 2, Vignette 3, Vignette 4, Vignette 5, Level 3 Home Type Chosen, PHQ Score, GAD Score, WSAS Score]\n",
              "Index: []"
            ]
          },
          "execution_count": 21,
          "metadata": {},
          "output_type": "execute_result"
        }
      ],
      "source": [
        "pd.DataFrame({\"SD Level 1 Progress\":[], \"SD Level 2 Progress\":[], \"SD Level 3 Progress\": [], \"Level 1 Q1 Responses\":[], \"Level 1 Q2 Responses\": [],\"Level 1 Q3 Responses\" :[], \"Level 1 Q4 Responses\":[], \"Level 2 Discovering Emotion Q1\":[], \"Level 2 Discovering Emotion Q2\":[], \"Vignette 1\":[], \"Vignette 2\":[], \"Vignette 3\":[], \"Vignette 4\":[], \"Vignette 5\":[], \"Level 3 Home Type Chosen\":[], \"PHQ Score\":[], \"GAD Score\":[], \"WSAS Score\":[]})"
      ]
    },
    {
      "cell_type": "code",
      "execution_count": null,
      "metadata": {},
      "outputs": [],
      "source": []
    }
  ],
  "metadata": {
    "kernel_info": {
      "name": "python3-azureml"
    },
    "kernelspec": {
      "display_name": "Python 3.6.9 64-bit ('azureml_py36': conda)",
      "name": "python3-azureml"
    },
    "language_info": {
      "codemirror_mode": {
        "name": "ipython",
        "version": 3
      },
      "file_extension": ".py",
      "mimetype": "text/x-python",
      "name": "python",
      "nbconvert_exporter": "python",
      "pygments_lexer": "ipython3",
      "version": "3.6.9"
    },
    "nteract": {
      "version": "nteract-front-end@1.0.0"
    }
  },
  "nbformat": 4,
  "nbformat_minor": 2
}