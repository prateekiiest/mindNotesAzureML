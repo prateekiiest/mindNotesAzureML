{
  "cells": [
    {
      "cell_type": "code",
      "execution_count": 1,
      "metadata": {},
      "outputs": [],
      "source": [
        "# azureml-core of version 1.0.72 or higher is required\n",
        "# azureml-dataprep[pandas] of version 1.1.34 or higher is required\n",
        "from azureml.core import Workspace, Dataset\n",
        "\n",
        "subscription_id = 'c01a4630-cc02-4828-9991-41259d9cb1a4'\n",
        "resource_group = 'bot-resource-group'\n",
        "workspace_name = 'MindNotesAnalysis'\n",
        "\n",
        "workspace = Workspace(subscription_id, resource_group, workspace_name)\n",
        "\n",
        "dataset = Dataset.get_by_name(workspace, name='UserDetails')\n",
        "df = dataset.to_pandas_dataframe()"
      ]
    },
    {
      "cell_type": "code",
      "execution_count": 2,
      "metadata": {},
      "outputs": [],
      "source": [
        "totalEntries = df[\"AppState\"].size"
      ]
    },
    {
      "cell_type": "code",
      "execution_count": 3,
      "metadata": {},
      "outputs": [
        {
          "ename": "NameError",
          "evalue": "name 'json' is not defined",
          "output_type": "error",
          "traceback": [
            "\u001b[0;31m---------------------------------------------------------------------------\u001b[0m",
            "\u001b[0;31mNameError\u001b[0m                                 Traceback (most recent call last)",
            "\u001b[0;32m<ipython-input-3-1cbc5b566f45>\u001b[0m in \u001b[0;36m<module>\u001b[0;34m\u001b[0m\n\u001b[1;32m      1\u001b[0m \u001b[0mtotalEntries\u001b[0m\u001b[0;34m\u001b[0m\u001b[0;34m\u001b[0m\u001b[0m\n\u001b[0;32m----> 2\u001b[0;31m \u001b[0mjsonData\u001b[0m \u001b[0;34m=\u001b[0m \u001b[0mjson\u001b[0m\u001b[0;34m.\u001b[0m\u001b[0mloads\u001b[0m\u001b[0;34m(\u001b[0m\u001b[0mdf\u001b[0m\u001b[0;34m[\u001b[0m\u001b[0;34m\"AppState\"\u001b[0m\u001b[0;34m]\u001b[0m\u001b[0;34m[\u001b[0m\u001b[0;36m1\u001b[0m\u001b[0;34m]\u001b[0m\u001b[0;34m)\u001b[0m\u001b[0;34m\u001b[0m\u001b[0;34m\u001b[0m\u001b[0m\n\u001b[0m\u001b[1;32m      3\u001b[0m \u001b[0;34m\u001b[0m\u001b[0m\n\u001b[1;32m      4\u001b[0m \u001b[0mselfDiscoveryDf\u001b[0m \u001b[0;34m=\u001b[0m \u001b[0mjsonData\u001b[0m\u001b[0;34m[\u001b[0m\u001b[0;34m\"selfDiscoveryState\"\u001b[0m\u001b[0;34m]\u001b[0m\u001b[0;34m\u001b[0m\u001b[0;34m\u001b[0m\u001b[0m\n",
            "\u001b[0;31mNameError\u001b[0m: name 'json' is not defined"
          ]
        }
      ],
      "source": [
        "totalEntries\n",
        "jsonData = json.loads(df[\"AppState\"][1])\n",
        "\n",
        "selfDiscoveryDf = jsonData[\"selfDiscoveryState\"]"
      ]
    },
    {
      "cell_type": "code",
      "execution_count": null,
      "metadata": {},
      "outputs": [],
      "source": [
        "import json\n",
        "\n",
        "for item in range(totalEntries):\n",
        "    jsonData = json.loads(df[\"AppState\"][item])\n",
        "\n",
        "    selfDiscoveryDf = jsonData[\"selfDiscoveryState\"]\n"
      ]
    },
    {
      "cell_type": "code",
      "execution_count": null,
      "metadata": {},
      "outputs": [
        {
          "data": {
            "text/plain": [
              "{'level1': {'isLocked': False, 'progressValue': 12.5, 'responses': {}},\n",
              " 'level2': {'isLocked': True,\n",
              "  'progressValue': 12.5,\n",
              "  'responses': {'VignetteSectionResponse': {},\n",
              "   'DiscoveringEmotionResponse': {}}},\n",
              " 'level3': {'isLocked': True,\n",
              "  'progressValue': 12.5,\n",
              "  'responses': {'GADSectionResponse': {},\n",
              "   'PHQSectionResponse': {},\n",
              "   'WsasResponse': {}},\n",
              "  'homeState': {'anxiousCard': {'completed': False, 'locked': True},\n",
              "   'lowCard': {'completed': False, 'locked': True},\n",
              "   'functioningCard': {'completed': False, 'locked': True},\n",
              "   'result': {'completed': False, 'locked': True},\n",
              "   'homeTypeChosen': None}},\n",
              " 'showIntro': True,\n",
              " 'sdLevel1ReportChosen': 'FIRST_REPORT_CHOSEN',\n",
              " 'showBackButtonModal': False}"
            ]
          },
          "execution_count": 5,
          "metadata": {},
          "output_type": "execute_result"
        }
      ],
      "source": [
        "selfDiscoveryDf"
      ]
    },
    {
      "cell_type": "code",
      "execution_count": null,
      "metadata": {},
      "outputs": [],
      "source": [
        "import enum\n",
        "\n",
        "class LevelNumber(enum.Enum):\n",
        "    level1 = \"level1\"\n",
        "    level2 = \"level2\"\n",
        "    level3 = \"level3\"\n",
        "  \n",
        "def checkLevelLockStatus(levelName, selfDiscoveryDf):\n",
        "    return selfDiscoveryDf[levelName][\"isLocked\"]\n",
        "\n",
        "def checkLevelProgressStatus(levelName, selfDiscoveryDf):\n",
        "    return selfDiscoveryDf[levelName][\"progressValue\"]\n",
        "\n",
        "\n",
        "# Seperate if else conditions added since later each code block would be customized per level\n",
        "def checkSCResponses(levelType, selfDiscoveryDf):\n",
        "    if(levelType == LevelNumber.level1):\n",
        "        respDict = selfDiscoveryDf[\"level1\"][\"responses\"]\n",
        "        resp = {}\n",
        "        for ke in respDict.keys():\n",
        "            key_resp = \"Q\"+ \"_\" + ke\n",
        "            resp[key_resp] = respDict[ke][\"answer\"]\n",
        "        return resp\n",
        "    elif(levelType == LevelNumber.level2):\n",
        "        respDict = selfDiscoveryDf[\"level2\"][\"responses\"]\n",
        "        resp = {}\n",
        "        questionList = [\"timeOfRecording\", \"Think of a recent situation when you were critical towards yourself. Write down your self critical thoughts\", \"ACT1:Mindfulness\", \"ACT2:Common humanity\", \"ACT3:Kindness\"]\n",
        "        for ke in respDict.keys():\n",
        "            key_resp = \"Q\"+ \"_\" + ke\n",
        "            localResp = {}\n",
        "            for item in range(len(questionList)):\n",
        "                localResp[questionList[item]] =  respDict[ke][\"answer\"][item]\n",
        "            resp[key_resp] = localResp\n",
        "        return resp\n",
        "    else:\n",
        "        respDict = selfDiscoveryDf[\"level3\"][\"responses\"]\n",
        "        resp = {}\n",
        "        questionList = [\"timeOfRecording\", \"Think of and describe about a current struggle.\",\"Express:Mindfulness\", \"Express:Common humanity\", \"Express:Kindness\"]\n",
        "\n",
        "        for ke in respDict.keys():\n",
        "            key_resp = \"Q\"+ \"_\" + ke\n",
        "            localResp = {}\n",
        "            for item in range(len(questionList)):\n",
        "                localResp[questionList[item]] =  respDict[ke][\"answer\"][item]\n",
        "            resp[key_resp] = localResp      \n",
        "        return resp\n",
        "\n",
        "\n"
      ]
    },
    {
      "cell_type": "code",
      "execution_count": null,
      "metadata": {},
      "outputs": [
        {
          "data": {
            "text/plain": [
              "12.5"
            ]
          },
          "execution_count": 7,
          "metadata": {},
          "output_type": "execute_result"
        }
      ],
      "source": [
        "checkLevelProgressStatus(\"level3\", selfDiscoveryDf)"
      ]
    },
    {
      "cell_type": "code",
      "execution_count": null,
      "metadata": {},
      "outputs": [
        {
          "ename": "KeyError",
          "evalue": "'answer'",
          "output_type": "error",
          "traceback": [
            "\u001b[0;31m---------------------------------------------------------------------------\u001b[0m",
            "\u001b[0;31mKeyError\u001b[0m                                  Traceback (most recent call last)",
            "\u001b[0;32m<ipython-input-29-8e8d42c72e5e>\u001b[0m in \u001b[0;36m<module>\u001b[0;34m\u001b[0m\n\u001b[0;32m----> 1\u001b[0;31m \u001b[0mcheckSCResponses\u001b[0m\u001b[0;34m(\u001b[0m\u001b[0mLevelNumber\u001b[0m\u001b[0;34m.\u001b[0m\u001b[0mlevel2\u001b[0m\u001b[0;34m,\u001b[0m \u001b[0mselfDiscoveryDf\u001b[0m\u001b[0;34m)\u001b[0m\u001b[0;34m\u001b[0m\u001b[0;34m\u001b[0m\u001b[0m\n\u001b[0m",
            "\u001b[0;32m<ipython-input-6-4935b13634b5>\u001b[0m in \u001b[0;36mcheckSCResponses\u001b[0;34m(levelType, selfDiscoveryDf)\u001b[0m\n\u001b[1;32m     30\u001b[0m             \u001b[0mlocalResp\u001b[0m \u001b[0;34m=\u001b[0m \u001b[0;34m{\u001b[0m\u001b[0;34m}\u001b[0m\u001b[0;34m\u001b[0m\u001b[0;34m\u001b[0m\u001b[0m\n\u001b[1;32m     31\u001b[0m             \u001b[0;32mfor\u001b[0m \u001b[0mitem\u001b[0m \u001b[0;32min\u001b[0m \u001b[0mrange\u001b[0m\u001b[0;34m(\u001b[0m\u001b[0mlen\u001b[0m\u001b[0;34m(\u001b[0m\u001b[0mquestionList\u001b[0m\u001b[0;34m)\u001b[0m\u001b[0;34m)\u001b[0m\u001b[0;34m:\u001b[0m\u001b[0;34m\u001b[0m\u001b[0;34m\u001b[0m\u001b[0m\n\u001b[0;32m---> 32\u001b[0;31m                 \u001b[0mlocalResp\u001b[0m\u001b[0;34m[\u001b[0m\u001b[0mquestionList\u001b[0m\u001b[0;34m[\u001b[0m\u001b[0mitem\u001b[0m\u001b[0;34m]\u001b[0m\u001b[0;34m]\u001b[0m \u001b[0;34m=\u001b[0m  \u001b[0mrespDict\u001b[0m\u001b[0;34m[\u001b[0m\u001b[0mke\u001b[0m\u001b[0;34m]\u001b[0m\u001b[0;34m[\u001b[0m\u001b[0;34m\"answer\"\u001b[0m\u001b[0;34m]\u001b[0m\u001b[0;34m[\u001b[0m\u001b[0mitem\u001b[0m\u001b[0;34m]\u001b[0m\u001b[0;34m\u001b[0m\u001b[0;34m\u001b[0m\u001b[0m\n\u001b[0m\u001b[1;32m     33\u001b[0m             \u001b[0mresp\u001b[0m\u001b[0;34m[\u001b[0m\u001b[0mkey_resp\u001b[0m\u001b[0;34m]\u001b[0m \u001b[0;34m=\u001b[0m \u001b[0mlocalResp\u001b[0m\u001b[0;34m\u001b[0m\u001b[0;34m\u001b[0m\u001b[0m\n\u001b[1;32m     34\u001b[0m         \u001b[0;32mreturn\u001b[0m \u001b[0mresp\u001b[0m\u001b[0;34m\u001b[0m\u001b[0;34m\u001b[0m\u001b[0m\n",
            "\u001b[0;31mKeyError\u001b[0m: 'answer'"
          ]
        }
      ],
      "source": [
        "checkSCResponses(LevelNumber.level2, selfDiscoveryDf)"
      ]
    },
    {
      "cell_type": "code",
      "execution_count": null,
      "metadata": {},
      "outputs": [
        {
          "data": {
            "text/plain": [
              "{'anxiousCard': {'completed': False, 'locked': True},\n",
              " 'lowCard': {'completed': False, 'locked': True},\n",
              " 'functioningCard': {'completed': False, 'locked': True},\n",
              " 'result': {'completed': False, 'locked': True},\n",
              " 'homeTypeChosen': None}"
            ]
          },
          "execution_count": 9,
          "metadata": {},
          "output_type": "execute_result"
        }
      ],
      "source": [
        "selfDiscoveryDf[\"level3\"][\"homeState\"]"
      ]
    },
    {
      "cell_type": "code",
      "execution_count": null,
      "metadata": {},
      "outputs": [],
      "source": [
        "def checkSelfDiscoveryHomeState(selfDiscoveryDf):\n",
        "    typeChosen = selfDiscoveryDf[\"level3\"][\"homeState\"][\"homeTypeChosen\"]\n",
        "    return typeChosen"
      ]
    },
    {
      "cell_type": "code",
      "execution_count": null,
      "metadata": {},
      "outputs": [],
      "source": [
        "def iterateForAllUsers():\n",
        "    total = df[\"AppState\"].size\n",
        "    userMapping = {}\n",
        "    for user in range(total):\n",
        "        jsonData = json.loads(df[\"AppState\"][user])\n",
        "        selfDiscoveryDf = jsonData[\"selfDiscoveryState\"]\n",
        "        userMapping[df[\"UserId\"][user]] = checkSelfDiscoveryHomeState(selfDiscoveryDf)\n",
        "    return userMapping\n",
        "\n",
        "def checkLevel1ResponsesForAll():\n",
        "    total = df[\"AppState\"].size\n",
        "    userMapping = {}\n",
        "    for user in range(total):\n",
        "        jsonData = json.loads(df[\"AppState\"][user])\n",
        "        selfDiscoveryDf = jsonData[\"selfDiscoveryState\"]\n",
        "        userMapping[df[\"UserId\"][user]] = checkSCResponses(LevelNumber.level1, selfDiscoveryDf)\n",
        "    return userMapping\n",
        "\n",
        "\n"
      ]
    },
    {
      "cell_type": "code",
      "execution_count": null,
      "metadata": {},
      "outputs": [],
      "source": [
        "userMapping = iterateForAllUsers()"
      ]
    },
    {
      "cell_type": "markdown",
      "metadata": {},
      "source": []
    },
    {
      "cell_type": "markdown",
      "metadata": {},
      "source": [
        "## Plotting Level 3 Self Discovery \n",
        "Plotting the number of Users who chose Type2/Type3/Type1 or didnt visit SelfDiscovery Level3 at all"
      ]
    },
    {
      "cell_type": "code",
      "execution_count": null,
      "metadata": {},
      "outputs": [],
      "source": [
        "def checkCountType(typeHome,userMapping):\n",
        "    count =0\n",
        "    for k in userMapping.keys():\n",
        "        if(userMapping[k] == typeHome):\n",
        "            count += 1\n",
        "    return count\n"
      ]
    },
    {
      "cell_type": "code",
      "execution_count": null,
      "metadata": {},
      "outputs": [
        {
          "data": {
            "text/plain": [
              "2"
            ]
          },
          "execution_count": 14,
          "metadata": {},
          "output_type": "execute_result"
        }
      ],
      "source": [
        "checkCountType('type2', userMapping)"
      ]
    },
    {
      "cell_type": "code",
      "execution_count": null,
      "metadata": {},
      "outputs": [
        {
          "data": {
            "text/plain": [
              "Text(0.6, 0.3, 'T3 = anxiety & depression')"
            ]
          },
          "execution_count": 15,
          "metadata": {},
          "output_type": "execute_result"
        },
        {
          "data": {
            "image/png": "[encoded data removed]",
            "text/plain": [
              "<Figure size 432x288 with 1 Axes>"
            ]
          },
          "metadata": {
            "needs_background": "light"
          },
          "output_type": "display_data"
        }
      ],
      "source": [
        "# SD Level 3 Check which Type chosen\n",
        "import matplotlib.pyplot as plt\n",
        "import pandas as pd\n",
        "homeTypes = [None, 'type1', 'type2', 'type3']\n",
        "plotdata = pd.DataFrame(\n",
        "    {\"SD Level 3 Type\": [checkCountType(typeHome, userMapping) for typeHome in homeTypes]}, \n",
        "    index=homeTypes)\n",
        "# Plot a bar chart\n",
        "plotdata.plot(kind=\"bar\")\n",
        "plt.xlabel(\"Level 3 Home Type Chosen\")\n",
        "plt.ylabel(\"user Count\")\n",
        "plt.figtext(.6, .5, \"None = user didnt visit\") \n",
        "plt.figtext(.5,.4, \"T1 = anxiety, T2 = depression\") \n",
        "plt.figtext(.6, .3, \"T3 = anxiety & depression\")\n",
        "#plt.savefig('./Plots/SelfDiscovery/SDLevel3Type.png')"
      ]
    },
    {
      "cell_type": "code",
      "execution_count": null,
      "metadata": {},
      "outputs": [
        {
          "data": {
            "text/plain": [
              "{'isLocked': False, 'progressValue': 12.5, 'responses': {}}"
            ]
          },
          "execution_count": 16,
          "metadata": {},
          "output_type": "execute_result"
        }
      ],
      "source": [
        "selfDiscoveryDf[\"level1\"]"
      ]
    },
    {
      "cell_type": "code",
      "execution_count": null,
      "metadata": {},
      "outputs": [
        {
          "data": {
            "text/plain": [
              "{}"
            ]
          },
          "execution_count": 17,
          "metadata": {},
          "output_type": "execute_result"
        }
      ],
      "source": [
        "checkSCResponses(LevelNumber.level1, selfDiscoveryDf)"
      ]
    },
    {
      "cell_type": "code",
      "execution_count": null,
      "metadata": {},
      "outputs": [
        {
          "data": {
            "text/plain": [
              "{}"
            ]
          },
          "execution_count": 27,
          "metadata": {},
          "output_type": "execute_result"
        }
      ],
      "source": [
        "checkSCResponses(LevelNumber.level1, selfDiscoveryDf)"
      ]
    },
    {
      "cell_type": "markdown",
      "metadata": {},
      "source": [
        "Check the association strength between a particular SD L1 Question and its response."
      ]
    },
    {
      "cell_type": "markdown",
      "metadata": {},
      "source": [
        "Check for one-hot encoding\n",
        "\n",
        "https://www.geeksforgeeks.org/ml-one-hot-encoding-of-datasets-in-python/\n",
        "\n",
        "One-hot encoding for the responses can be done."
      ]
    },
    {
      "cell_type": "markdown",
      "metadata": {},
      "source": [
        "# Creating a Dataframe\n"
      ]
    },
    {
      "cell_type": "code",
      "execution_count": null,
      "metadata": {},
      "outputs": [
        {
          "data": {
            "text/plain": [
              "{'level1': {'isLocked': False, 'progressValue': 12.5, 'responses': {}},\n",
              " 'level2': {'isLocked': True,\n",
              "  'progressValue': 12.5,\n",
              "  'responses': {'VignetteSectionResponse': {},\n",
              "   'DiscoveringEmotionResponse': {}}},\n",
              " 'level3': {'isLocked': True,\n",
              "  'progressValue': 12.5,\n",
              "  'responses': {'GADSectionResponse': {},\n",
              "   'PHQSectionResponse': {},\n",
              "   'WsasResponse': {}},\n",
              "  'homeState': {'anxiousCard': {'completed': False, 'locked': True},\n",
              "   'lowCard': {'completed': False, 'locked': True},\n",
              "   'functioningCard': {'completed': False, 'locked': True},\n",
              "   'result': {'completed': False, 'locked': True},\n",
              "   'homeTypeChosen': None}},\n",
              " 'showIntro': True,\n",
              " 'sdLevel1ReportChosen': 'FIRST_REPORT_CHOSEN',\n",
              " 'showBackButtonModal': False}"
            ]
          },
          "execution_count": 19,
          "metadata": {},
          "output_type": "execute_result"
        }
      ],
      "source": [
        "selfDiscoveryDf"
      ]
    },
    {
      "cell_type": "code",
      "execution_count": null,
      "metadata": {},
      "outputs": [],
      "source": [
        "def calculateTestScores(sectionResponse):\n",
        "    su = 0\n",
        "    for qid in sectionResponse.keys():\n",
        "        su += int(sectionResponse[qid][\"answer\"])\n",
        "    return su\n",
        "\n"
      ]
    },
    {
      "cell_type": "code",
      "execution_count": null,
      "metadata": {},
      "outputs": [],
      "source": [
        "selfDiscoveryFinalDf = pd.DataFrame({\"UserId\":[],\"SD Level 1 Progress\":[], \"SD Level 2 Progress\":[], \"SD Level 3 Progress\": [], \"Level 1 Q1 Responses\":[], \"Level 1 Q2 Responses\": [],\"Level 1 Q3 Responses\" :[], \"Level 1 Q4 Responses\":[], \"Level 2 Discovering Emotion Q1\":[], \"Level 2 Discovering Emotion Q2\":[], \"Vignette 1\":[], \"Vignette 2\":[], \"Vignette 3\":[], \"Vignette 4\":[], \"Vignette 5\":[], \"Level 3 Home Type Chosen\":[], \"PHQ Score\":[], \"GAD Score\":[], \"WSAS Score\":[], \"Suicide Q1\":[], \"Suicide Q2\":[], \"Suicide Q3\":[], \"Suicide Q4\":[], \"Suicide Q4 Free Text Response\":[]})"
      ]
    },
    {
      "cell_type": "code",
      "execution_count": null,
      "metadata": {},
      "outputs": [
        {
          "ename": "KeyError",
          "evalue": "'quid1'",
          "output_type": "error",
          "traceback": [
            "\u001b[0;31m---------------------------------------------------------------------------\u001b[0m",
            "\u001b[0;31mKeyError\u001b[0m                                  Traceback (most recent call last)",
            "\u001b[0;32m<ipython-input-22-1ac4d62f8055>\u001b[0m in \u001b[0;36m<module>\u001b[0;34m\u001b[0m\n\u001b[1;32m      7\u001b[0m \u001b[0mselfDiscoveryFinalDf\u001b[0m\u001b[0;34m[\u001b[0m\u001b[0;34m\"Level 1 Q3 Responses\"\u001b[0m\u001b[0;34m]\u001b[0m \u001b[0;34m=\u001b[0m \u001b[0;34m[\u001b[0m\u001b[0;34m\"very often\"\u001b[0m\u001b[0;34m]\u001b[0m\u001b[0;34m\u001b[0m\u001b[0;34m\u001b[0m\u001b[0m\n\u001b[1;32m      8\u001b[0m \u001b[0mselfDiscoveryFinalDf\u001b[0m\u001b[0;34m[\u001b[0m\u001b[0;34m\"Level 1 Q4 Responses\"\u001b[0m\u001b[0;34m]\u001b[0m \u001b[0;34m=\u001b[0m \u001b[0;34m[\u001b[0m\u001b[0;34m\"not confident at all\"\u001b[0m\u001b[0;34m]\u001b[0m\u001b[0;34m\u001b[0m\u001b[0;34m\u001b[0m\u001b[0m\n\u001b[0;32m----> 9\u001b[0;31m \u001b[0mselfDiscoveryFinalDf\u001b[0m\u001b[0;34m[\u001b[0m\u001b[0;34m\"Level 2 Discovering Emotion Q1\"\u001b[0m\u001b[0;34m]\u001b[0m \u001b[0;34m=\u001b[0m \u001b[0mlist\u001b[0m\u001b[0;34m(\u001b[0m\u001b[0mselfDiscoveryDf\u001b[0m\u001b[0;34m[\u001b[0m\u001b[0;34m\"level2\"\u001b[0m\u001b[0;34m]\u001b[0m\u001b[0;34m[\u001b[0m\u001b[0;34m\"responses\"\u001b[0m\u001b[0;34m]\u001b[0m\u001b[0;34m[\u001b[0m\u001b[0;34m\"DiscoveringEmotionResponse\"\u001b[0m\u001b[0;34m]\u001b[0m\u001b[0;34m[\u001b[0m\u001b[0;34m\"quid1\"\u001b[0m\u001b[0;34m]\u001b[0m\u001b[0;34m[\u001b[0m\u001b[0;34m\"answer\"\u001b[0m\u001b[0;34m]\u001b[0m\u001b[0;34m[\u001b[0m\u001b[0;34m\"quid1\"\u001b[0m\u001b[0;34m]\u001b[0m\u001b[0;34m.\u001b[0m\u001b[0mkeys\u001b[0m\u001b[0;34m(\u001b[0m\u001b[0;34m)\u001b[0m\u001b[0;34m)\u001b[0m\u001b[0;34m[\u001b[0m\u001b[0;36m0\u001b[0m\u001b[0;34m]\u001b[0m\u001b[0;34m\u001b[0m\u001b[0;34m\u001b[0m\u001b[0m\n\u001b[0m\u001b[1;32m     10\u001b[0m \u001b[0mselfDiscoveryFinalDf\u001b[0m\u001b[0;34m[\u001b[0m\u001b[0;34m\"Level 2 Discovering Emotion Q2\"\u001b[0m\u001b[0;34m]\u001b[0m \u001b[0;34m=\u001b[0m \u001b[0mlist\u001b[0m\u001b[0;34m(\u001b[0m\u001b[0mselfDiscoveryDf\u001b[0m\u001b[0;34m[\u001b[0m\u001b[0;34m\"level2\"\u001b[0m\u001b[0;34m]\u001b[0m\u001b[0;34m[\u001b[0m\u001b[0;34m\"responses\"\u001b[0m\u001b[0;34m]\u001b[0m\u001b[0;34m[\u001b[0m\u001b[0;34m\"DiscoveringEmotionResponse\"\u001b[0m\u001b[0;34m]\u001b[0m\u001b[0;34m[\u001b[0m\u001b[0;34m\"quid2\"\u001b[0m\u001b[0;34m]\u001b[0m\u001b[0;34m[\u001b[0m\u001b[0;34m\"answer\"\u001b[0m\u001b[0;34m]\u001b[0m\u001b[0;34m[\u001b[0m\u001b[0;34m\"quid2\"\u001b[0m\u001b[0;34m]\u001b[0m\u001b[0;34m.\u001b[0m\u001b[0mkeys\u001b[0m\u001b[0;34m(\u001b[0m\u001b[0;34m)\u001b[0m\u001b[0;34m)\u001b[0m\u001b[0;34m[\u001b[0m\u001b[0;36m0\u001b[0m\u001b[0;34m]\u001b[0m\u001b[0;34m\u001b[0m\u001b[0;34m\u001b[0m\u001b[0m\n\u001b[1;32m     11\u001b[0m \u001b[0mselfDiscoveryFinalDf\u001b[0m\u001b[0;34m[\u001b[0m\u001b[0;34m\"Vignette 1\"\u001b[0m\u001b[0;34m]\u001b[0m \u001b[0;34m=\u001b[0m \u001b[0mselfDiscoveryDf\u001b[0m\u001b[0;34m[\u001b[0m\u001b[0;34m\"level2\"\u001b[0m\u001b[0;34m]\u001b[0m\u001b[0;34m[\u001b[0m\u001b[0;34m\"responses\"\u001b[0m\u001b[0;34m]\u001b[0m\u001b[0;34m[\u001b[0m\u001b[0;34m\"VignetteSectionResponse\"\u001b[0m\u001b[0;34m]\u001b[0m\u001b[0;34m[\u001b[0m\u001b[0;34m\"quid1\"\u001b[0m\u001b[0;34m]\u001b[0m\u001b[0;34m[\u001b[0m\u001b[0;34m\"answer\"\u001b[0m\u001b[0;34m]\u001b[0m\u001b[0;34m\u001b[0m\u001b[0;34m\u001b[0m\u001b[0m\n",
            "\u001b[0;31mKeyError\u001b[0m: 'quid1'"
          ]
        }
      ],
      "source": [
        "selfDiscoveryFinalDf[\"UserId\"] = [\"b93d2a00-fe4a-4b0f-4d7a-08d8cc33525c\"]\n",
        "selfDiscoveryFinalDf[\"SD Level 1 Progress\"] = [100]\n",
        "selfDiscoveryFinalDf[\"SD Level 2 Progress\"] = [100]\n",
        "selfDiscoveryFinalDf[\"SD Level 3 Progress\"] = [100]\n",
        "selfDiscoveryFinalDf[\"Level 1 Q1 Responses\"] = [\"more than a year\"]\n",
        "selfDiscoveryFinalDf[\"Level 1 Q2 Responses\"] = [\"rarely\"]\n",
        "selfDiscoveryFinalDf[\"Level 1 Q3 Responses\"] = [\"very often\"]\n",
        "selfDiscoveryFinalDf[\"Level 1 Q4 Responses\"] = [\"not confident at all\"]\n",
        "selfDiscoveryFinalDf[\"Level 2 Discovering Emotion Q1\"] = list(selfDiscoveryDf[\"level2\"][\"responses\"][\"DiscoveringEmotionResponse\"][\"quid1\"][\"answer\"][\"quid1\"].keys())[0]\n",
        "selfDiscoveryFinalDf[\"Level 2 Discovering Emotion Q2\"] = list(selfDiscoveryDf[\"level2\"][\"responses\"][\"DiscoveringEmotionResponse\"][\"quid2\"][\"answer\"][\"quid2\"].keys())[0]\n",
        "selfDiscoveryFinalDf[\"Vignette 1\"] = selfDiscoveryDf[\"level2\"][\"responses\"][\"VignetteSectionResponse\"][\"quid1\"][\"answer\"]\n",
        "selfDiscoveryFinalDf[\"Vignette 2\"] = selfDiscoveryDf[\"level2\"][\"responses\"][\"VignetteSectionResponse\"][\"quid2\"][\"answer\"]\n",
        "selfDiscoveryFinalDf[\"Vignette 3\"] = selfDiscoveryDf[\"level2\"][\"responses\"][\"VignetteSectionResponse\"][\"quid3\"][\"answer\"]\n",
        "selfDiscoveryFinalDf[\"Vignette 4\"] = selfDiscoveryDf[\"level2\"][\"responses\"][\"VignetteSectionResponse\"][\"quid4\"][\"answer\"]\n",
        "selfDiscoveryFinalDf[\"Vignette 5\"] = selfDiscoveryDf[\"level2\"][\"responses\"][\"VignetteSectionResponse\"][\"quid5\"][\"answer\"]\n",
        "selfDiscoveryFinalDf[\"Level 3 Home Type Chosen\"] = checkSelfDiscoveryHomeState(selfDiscoveryDf)\n",
        "selfDiscoveryFinalDf[\"PHQ Score\"] = calculateTestScores(selfDiscoveryDf[\"level3\"][\"responses\"][\"PHQSectionResponse\"])\n",
        "selfDiscoveryFinalDf[\"GAD Score\"] = calculateTestScores(selfDiscoveryDf[\"level3\"][\"responses\"][\"GADSectionResponse\"])\n",
        "selfDiscoveryFinalDf[\"WSAS Score\"] = calculateTestScores(selfDiscoveryDf[\"level3\"][\"responses\"][\"WsasResponse\"])\n",
        "\n",
        "\n",
        "\n",
        "\n",
        "\n",
        "\n",
        "\n"
      ]
    },
    {
      "cell_type": "code",
      "execution_count": null,
      "metadata": {},
      "outputs": [],
      "source": []
    },
    {
      "cell_type": "code",
      "execution_count": null,
      "metadata": {},
      "outputs": [
        {
          "data": {
            "text/html": [
              "<div>\n",
              "<style scoped>\n",
              "    .dataframe tbody tr th:only-of-type {\n",
              "        vertical-align: middle;\n",
              "    }\n",
              "\n",
              "    .dataframe tbody tr th {\n",
              "        vertical-align: top;\n",
              "    }\n",
              "\n",
              "    .dataframe thead th {\n",
              "        text-align: right;\n",
              "    }\n",
              "</style>\n",
              "<table border=\"1\" class=\"dataframe\">\n",
              "  <thead>\n",
              "    <tr style=\"text-align: right;\">\n",
              "      <th></th>\n",
              "      <th>UserId</th>\n",
              "      <th>SD Level 1 Progress</th>\n",
              "      <th>SD Level 2 Progress</th>\n",
              "      <th>SD Level 3 Progress</th>\n",
              "      <th>Level 1 Q1 Responses</th>\n",
              "      <th>Level 1 Q2 Responses</th>\n",
              "      <th>Level 1 Q3 Responses</th>\n",
              "      <th>Level 1 Q4 Responses</th>\n",
              "      <th>Level 2 Discovering Emotion Q1</th>\n",
              "      <th>Level 2 Discovering Emotion Q2</th>\n",
              "      <th>...</th>\n",
              "      <th>Vignette 5</th>\n",
              "      <th>Level 3 Home Type Chosen</th>\n",
              "      <th>PHQ Score</th>\n",
              "      <th>GAD Score</th>\n",
              "      <th>WSAS Score</th>\n",
              "      <th>Suicide Q1</th>\n",
              "      <th>Suicide Q2</th>\n",
              "      <th>Suicide Q3</th>\n",
              "      <th>Suicide Q4</th>\n",
              "      <th>Suicide Q4 Free Text Response</th>\n",
              "    </tr>\n",
              "  </thead>\n",
              "  <tbody>\n",
              "    <tr>\n",
              "      <th>0</th>\n",
              "      <td>b93d2a00-fe4a-4b0f-4d7a-08d8cc33525c</td>\n",
              "      <td>100</td>\n",
              "      <td>100</td>\n",
              "      <td>100</td>\n",
              "      <td>more than a year</td>\n",
              "      <td>rarely</td>\n",
              "      <td>very often</td>\n",
              "      <td>not confident at all</td>\n",
              "      <td>NaN</td>\n",
              "      <td>NaN</td>\n",
              "      <td>...</td>\n",
              "      <td>NaN</td>\n",
              "      <td>NaN</td>\n",
              "      <td>NaN</td>\n",
              "      <td>NaN</td>\n",
              "      <td>NaN</td>\n",
              "      <td>NaN</td>\n",
              "      <td>NaN</td>\n",
              "      <td>NaN</td>\n",
              "      <td>NaN</td>\n",
              "      <td>NaN</td>\n",
              "    </tr>\n",
              "  </tbody>\n",
              "</table>\n",
              "<p>1 rows × 24 columns</p>\n",
              "</div>"
            ],
            "text/plain": [
              "                                 UserId  SD Level 1 Progress  \\\n",
              "0  b93d2a00-fe4a-4b0f-4d7a-08d8cc33525c                  100   \n",
              "\n",
              "   SD Level 2 Progress  SD Level 3 Progress Level 1 Q1 Responses  \\\n",
              "0                  100                  100     more than a year   \n",
              "\n",
              "  Level 1 Q2 Responses Level 1 Q3 Responses  Level 1 Q4 Responses  \\\n",
              "0               rarely           very often  not confident at all   \n",
              "\n",
              "   Level 2 Discovering Emotion Q1  Level 2 Discovering Emotion Q2  ...  \\\n",
              "0                             NaN                             NaN  ...   \n",
              "\n",
              "   Vignette 5  Level 3 Home Type Chosen  PHQ Score  GAD Score  WSAS Score  \\\n",
              "0         NaN                       NaN        NaN        NaN         NaN   \n",
              "\n",
              "   Suicide Q1  Suicide Q2  Suicide Q3  Suicide Q4  \\\n",
              "0         NaN         NaN         NaN         NaN   \n",
              "\n",
              "   Suicide Q4 Free Text Response  \n",
              "0                            NaN  \n",
              "\n",
              "[1 rows x 24 columns]"
            ]
          },
          "execution_count": 23,
          "metadata": {},
          "output_type": "execute_result"
        }
      ],
      "source": [
        "selfDiscoveryFinalDf"
      ]
    },
    {
      "cell_type": "code",
      "execution_count": null,
      "metadata": {},
      "outputs": [
        {
          "data": {
            "text/html": [
              "<div>\n",
              "<style scoped>\n",
              "    .dataframe tbody tr th:only-of-type {\n",
              "        vertical-align: middle;\n",
              "    }\n",
              "\n",
              "    .dataframe tbody tr th {\n",
              "        vertical-align: top;\n",
              "    }\n",
              "\n",
              "    .dataframe thead th {\n",
              "        text-align: right;\n",
              "    }\n",
              "</style>\n",
              "<table border=\"1\" class=\"dataframe\">\n",
              "  <thead>\n",
              "    <tr style=\"text-align: right;\">\n",
              "      <th></th>\n",
              "      <th>UserId</th>\n",
              "      <th>SD Level 1 Progress</th>\n",
              "      <th>SD Level 2 Progress</th>\n",
              "      <th>SD Level 3 Progress</th>\n",
              "      <th>Level 1 Q1 Responses</th>\n",
              "      <th>Level 1 Q2 Responses</th>\n",
              "      <th>Level 1 Q3 Responses</th>\n",
              "      <th>Level 1 Q4 Responses</th>\n",
              "      <th>Level 2 Discovering Emotion Q1</th>\n",
              "      <th>Level 2 Discovering Emotion Q2</th>\n",
              "      <th>...</th>\n",
              "      <th>Vignette 5</th>\n",
              "      <th>Level 3 Home Type Chosen</th>\n",
              "      <th>PHQ Score</th>\n",
              "      <th>GAD Score</th>\n",
              "      <th>WSAS Score</th>\n",
              "      <th>Suicide Q1</th>\n",
              "      <th>Suicide Q2</th>\n",
              "      <th>Suicide Q3</th>\n",
              "      <th>Suicide Q4</th>\n",
              "      <th>Suicide Q4 Free Text Response</th>\n",
              "    </tr>\n",
              "  </thead>\n",
              "  <tbody>\n",
              "    <tr>\n",
              "      <th>0</th>\n",
              "      <td>b93d2a00-fe4a-4b0f-4d7a-08d8cc33525c</td>\n",
              "      <td>100</td>\n",
              "      <td>100</td>\n",
              "      <td>100</td>\n",
              "      <td>more than a year</td>\n",
              "      <td>rarely</td>\n",
              "      <td>very often</td>\n",
              "      <td>not confident at all</td>\n",
              "      <td>NaN</td>\n",
              "      <td>NaN</td>\n",
              "      <td>...</td>\n",
              "      <td>NaN</td>\n",
              "      <td>NaN</td>\n",
              "      <td>NaN</td>\n",
              "      <td>NaN</td>\n",
              "      <td>NaN</td>\n",
              "      <td>NaN</td>\n",
              "      <td>NaN</td>\n",
              "      <td>NaN</td>\n",
              "      <td>NaN</td>\n",
              "      <td>NaN</td>\n",
              "    </tr>\n",
              "  </tbody>\n",
              "</table>\n",
              "<p>1 rows × 24 columns</p>\n",
              "</div>"
            ],
            "text/plain": [
              "                                 UserId  SD Level 1 Progress  \\\n",
              "0  b93d2a00-fe4a-4b0f-4d7a-08d8cc33525c                  100   \n",
              "\n",
              "   SD Level 2 Progress  SD Level 3 Progress Level 1 Q1 Responses  \\\n",
              "0                  100                  100     more than a year   \n",
              "\n",
              "  Level 1 Q2 Responses Level 1 Q3 Responses  Level 1 Q4 Responses  \\\n",
              "0               rarely           very often  not confident at all   \n",
              "\n",
              "   Level 2 Discovering Emotion Q1  Level 2 Discovering Emotion Q2  ...  \\\n",
              "0                             NaN                             NaN  ...   \n",
              "\n",
              "   Vignette 5  Level 3 Home Type Chosen  PHQ Score  GAD Score  WSAS Score  \\\n",
              "0         NaN                       NaN        NaN        NaN         NaN   \n",
              "\n",
              "   Suicide Q1  Suicide Q2  Suicide Q3  Suicide Q4  \\\n",
              "0         NaN         NaN         NaN         NaN   \n",
              "\n",
              "   Suicide Q4 Free Text Response  \n",
              "0                            NaN  \n",
              "\n",
              "[1 rows x 24 columns]"
            ]
          },
          "execution_count": 24,
          "metadata": {},
          "output_type": "execute_result"
        }
      ],
      "source": [
        "selfDiscoveryFinalDf"
      ]
    },
    {
      "cell_type": "code",
      "execution_count": null,
      "metadata": {},
      "outputs": [],
      "source": [
        "local_path = 'Users/v-pratec/data/selfDiscovery.csv'\n",
        "\n",
        "selfDiscoveryFinalDf.to_csv(local_path)"
      ]
    },
    {
      "cell_type": "code",
      "execution_count": null,
      "metadata": {},
      "outputs": [
        {
          "name": "stdout",
          "output_type": "stream",
          "text": [
            "Uploading an estimated of 1 files\n",
            "Target already exists. Skipping upload for Users/v-pratec/data/selfDiscovery.csv\n",
            "Uploaded 0 files\n"
          ]
        },
        {
          "data": {
            "text/plain": [
              "$AZUREML_DATAREFERENCE_6df4c75f8cd64d79b9ccea18ca243309"
            ]
          },
          "execution_count": 25,
          "metadata": {},
          "output_type": "execute_result"
        }
      ],
      "source": [
        "datastore = workspace.get_default_datastore()\n",
        "# upload the local file from src_dir to the target_path in datastore\n",
        "datastore.upload(src_dir='Users/v-pratec/data', target_path='Users/v-pratec/data')"
      ]
    },
    {
      "cell_type": "code",
      "execution_count": null,
      "metadata": {},
      "outputs": [],
      "source": [
        "selfdiscoveryds = Dataset.Tabular.from_delimited_files(datastore.path('Users/v-pratec/data/selfDiscovery.csv'))\n"
      ]
    },
    {
      "cell_type": "code",
      "execution_count": null,
      "metadata": {},
      "outputs": [
        {
          "data": {
            "text/plain": [
              "100"
            ]
          },
          "execution_count": 45,
          "metadata": {},
          "output_type": "execute_result"
        }
      ],
      "source": [
        "selfDiscoveryDf[\"level1\"][\"progressValue\"]"
      ]
    },
    {
      "cell_type": "code",
      "execution_count": null,
      "metadata": {},
      "outputs": [
        {
          "data": {
            "text/plain": [
              "['5704b8c3-0e67-4127-4d78-08d8cc33525c',\n",
              " 'b93d2a00-fe4a-4b0f-4d7a-08d8cc33525c',\n",
              " 'b6a54ac9-3268-4ecb-4d7b-08d8cc33525c',\n",
              " '4d65f14e-74b2-4077-4d7e-08d8cc33525c',\n",
              " '46557658-06af-4808-4d7f-08d8cc33525c',\n",
              " 'c1f1cfbb-28b0-4788-4d80-08d8cc33525c',\n",
              " 'adeb096a-0090-4191-4d81-08d8cc33525c',\n",
              " '17cb7b35-4653-4c2f-4d82-08d8cc33525c',\n",
              " '8ab775d5-6848-4687-4d83-08d8cc33525c',\n",
              " 'f1031320-6c06-41bb-4d86-08d8cc33525c',\n",
              " '560fce02-1819-4493-4d87-08d8cc33525c',\n",
              " '3e6c01d2-603b-4553-4d88-08d8cc33525c',\n",
              " '18570ac4-1dda-46e5-bc91-08d8d6f4dffc',\n",
              " 'c88ec046-af5b-42e4-e5a7-08d8deeb08c6',\n",
              " '474bedfb-bfe7-4fbb-e5a8-08d8deeb08c6',\n",
              " 'e8e95a0c-0267-4201-7b10-08d8f45c19aa',\n",
              " 'cfc020c0-1b36-4a41-c041-08d8f98f9467',\n",
              " '214df20d-8b7b-470c-7783-08d9000d5fcd',\n",
              " '5b833480-ed73-40a3-7784-08d9000d5fcd']"
            ]
          },
          "execution_count": 50,
          "metadata": {},
          "output_type": "execute_result"
        }
      ],
      "source": [
        "\n",
        "userList = []\n",
        "sdLevel1Progress = []\n",
        "sdLevel2Progress = []\n",
        "sdLevel3Progress = []\n",
        "sdLevel1Q1Response = []\n",
        "sdLevel1Q2Response = []\n",
        "sdLevel1Q3Response = []\n",
        "sdLevel1Q4Response = []\n",
        "sdLevel2Q1Response = []\n",
        "sdLevel2Q2Response = []\n",
        "vignette1 = []\n",
        "vignette2 = []\n",
        "vignette3 = []\n",
        "vignette4 = []\n",
        "vignette5 = []\n",
        "level3HomeType = []\n",
        "phqScore = []\n",
        "wsasScore = []\n",
        "gadScore = []\n",
        "suicideQ1Response = []\n",
        "suicideQ2Response = []\n",
        "suicideQ3Response = []\n",
        "suicideQ4Response = []\n",
        "suicideQ4FreeText = []\n",
        "\n",
        "\n",
        "for item in range(totalEntries):\n",
        "    userList.append(df[\"UserId\"][item])\n",
        "    jsonData = json.loads(df[\"AppState\"][item])    \n",
        "    selfDiscoveryDf = jsonData[\"selfDiscoveryState\"]\n",
        "    sdLevel1Progress.append(selfDiscoveryDf[\"level1\"][\"progressValue\"])\n",
        "    sdLevel2Progress.append(selfDiscoveryDf[\"level2\"][\"progressValue\"])\n",
        "    sdLevel3Progress.append(selfDiscoveryDf[\"level3\"][\"progressValue\"])\n",
        "    level1Responses = checkSCResponses(LevelNumber.level1, selfDiscoveryDf)\n",
        "    if(level1Responses != {}):\n",
        "        sdLevel1Q1Response.append(level1Responses[\"Q1\"])\n",
        "        sdLevel1Q2Response.append(level1Responses[\"Q2\"])\n",
        "        sdLevel1Q3Response.append(level1Responses[\"Q3\"])\n",
        "        sdLevel1Q4Response.append(level1Responses[\"Q4\"])\n",
        "    \n",
        "#userList = [user for user in userMapping]\n",
        "#sdLevel1Progress = [progress for progress in ]"
      ]
    },
    {
      "cell_type": "code",
      "execution_count": null,
      "metadata": {},
      "outputs": [],
      "source": []
    }
  ],
  "metadata": {
    "kernel_info": {
      "name": "python3-azureml"
    },
    "kernelspec": {
      "display_name": "Python 3.8 - AzureML",
      "language": "python",
      "name": "python38-azureml"
    },
    "language_info": {
      "name": "python",
      "version": ""
    },
    "nteract": {
      "version": "nteract-front-end@1.0.0"
    }
  },
  "nbformat": 4,
  "nbformat_minor": 2
}