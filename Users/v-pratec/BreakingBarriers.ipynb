{
  "cells": [
    {
      "cell_type": "code",
      "execution_count": 1,
      "metadata": {},
      "outputs": [],
      "source": [
        "# azureml-core of version 1.0.72 or higher is required\n",
        "# azureml-dataprep[pandas] of version 1.1.34 or higher is required\n",
        "from azureml.core import Workspace, Dataset\n",
        "\n",
        "subscription_id = 'c01a4630-cc02-4828-9991-41259d9cb1a4'\n",
        "resource_group = 'bot-resource-group'\n",
        "workspace_name = 'MindNotesAnalysis'\n",
        "\n",
        "workspace = Workspace(subscription_id, resource_group, workspace_name)\n",
        "\n",
        "dataset = Dataset.get_by_name(workspace, name='UserDetails')\n",
        "df = dataset.to_pandas_dataframe()"
      ]
    },
    {
      "cell_type": "code",
      "execution_count": 2,
      "metadata": {},
      "outputs": [
        {
          "data": {
            "text/plain": [
              "{'currentApplicationState': {'shouldShowExpertFre': True,\n",
              "  'maxLoginAttempts': 0,\n",
              "  'lastTimeStateUpdated': '2021-03-01T12:18:03.599Z',\n",
              "  'isNewSession': False,\n",
              "  'shouldShowFre': False,\n",
              "  'sessionId': '7b1a2915-d74c-4fbd-aed2-b3f096ef44c9',\n",
              "  'userId': '5704b8c3-0e67-4127-4d78-08d8cc33525c'},\n",
              " 'currentUserState': {'loginState': {'showLoginFre': False,\n",
              "   'userInfo': {'scopes': ['https://www.googleapis.com/auth/userinfo.profile',\n",
              "     'https://www.googleapis.com/auth/userinfo.email'],\n",
              "    'serverAuthCode': None,\n",
              "    'idToken': 'eyJhbGciOiJSUzI1NiIsImtpZCI6ImZlZDgwZmVjNTZkYjk5MjMzZDRiNGY2MGZiYWZkYmFlYjkxODZjNzMiLCJ0eXAiOiJKV1QifQ.eyJpc3MiOiJodHRwczovL2FjY291bnRzLmdvb2dsZS5jb20iLCJhenAiOiIzNDczODY2OTY2NTItMHM4MzVlNHY3a2VvYmhmNXU3M2Y2aGtuMDhlMzdjbzkuYXBwcy5nb29nbGV1c2VyY29udGVudC5jb20iLCJhdWQiOiIzNDczODY2OTY2NTItMWN0Y3NwbjNqY25waWs2MDg4a2U2N3ZrcGJlbXZrbXYuYXBwcy5nb29nbGV1c2VyY29udGVudC5jb20iLCJzdWIiOiIxMTI0MzI3ODc5MTA2MjIzNDIzNjQiLCJlbWFpbCI6ImNoYW5kYXJvYjIxQGdtYWlsLmNvbSIsImVtYWlsX3ZlcmlmaWVkIjp0cnVlLCJuYW1lIjoiUm9iIENoYW5kYSIsInBpY3R1cmUiOiJodHRwczovL2xoNC5nb29nbGV1c2VyY29udGVudC5jb20vLU5PUnBLc2VHLWpjL0FBQUFBQUFBQUFJL0FBQUFBQUFBQUFBL0FNWnV1Y2xRNnJubklZY01BLXN1dlRxWloydm9fd0lXekEvczk2LWMvcGhvdG8uanBnIiwiZ2l2ZW5fbmFtZSI6IlJvYiIsImZhbWlseV9uYW1lIjoiQ2hhbmRhIiwibG9jYWxlIjoiZW4iLCJpYXQiOjE2MTQ2MDkxMjgsImV4cCI6MTYxNDYxMjcyOH0.a3AeM5R1XvD9ZsqULyl3xlPima1WqoZ5hB0yNPu8EkgPM0so_QhVvzKn2IEGDfYZTsaRka7q9fkEMx4KIVR3mbbLTAn2JCndOBc5jnxHdCZxR0gPczoBTZ5TfhWcKnZ6nFtE7IK2Z-TNIhCl1OBzmScRSnLVB41AKMuOs8WcMm6sz66-CV4tSO1Kw1gjWvaV_tDIfvoxUU9jFd63BtysT8_qi7qnvAfIwfgBaBtaO3Zb3XEHbkBC_6KxvegEhpEighBxdGGf-jSFkMESYnuIvdnTTBemxunLmGuag6mNxzKH8f5RVIXjwH9-7OEYR6jK04arU6Af9NBX0xGbe-FUCg',\n",
              "    'user': {'photo': 'https://lh4.googleusercontent.com/-NORpKseG-jc/AAAAAAAAAAI/AAAAAAAAAAA/AMZuuclQ6rnnIYcMA-suvTqZZ2vo_wIWzA/s96-c/photo.jpg',\n",
              "     'email': 'chandarob21@gmail.com',\n",
              "     'familyName': 'Chanda',\n",
              "     'givenName': 'Rob',\n",
              "     'name': 'Rob Chanda',\n",
              "     'id': '112432787910622342364'}},\n",
              "   'loginStatus': True}},\n",
              " 'currentHomeScreenState': {'activeSection': {'ActiveCards': []},\n",
              "  'copingCrisisSection': {'CopingCrisisCards': []},\n",
              "  'homeSectionHeaders': [{'text': 'My Barriers to seek professional help',\n",
              "    'itemSection': 'homeBarriersHeader',\n",
              "    'colors': ['#D3ECFB', '#D3ECFB', '#D3ECFB'],\n",
              "    'locations': [1, 1, 1]},\n",
              "   {'text': 'My Self Discovery',\n",
              "    'itemSection': 'homeSelfDiscoveryHeader',\n",
              "    'colors': ['#FDDAC0', '#FDDAC0'],\n",
              "    'locations': [0.51, 0.51]},\n",
              "   {'text': 'Our suggestions for you',\n",
              "    'itemSection': 'homeInactiveHeader',\n",
              "    'colors': ['#ffffff', '#ffffff']}],\n",
              "  'inActiveSection': {'InActiveCards': [{'componentKey': 'letsTalk',\n",
              "     'title': 'Coping with Crisis',\n",
              "     'description': '',\n",
              "     'progress': 0,\n",
              "     'sectionImageShow': True,\n",
              "     'cardImageShow': True,\n",
              "     'sectionBodyDescriptionShow': True,\n",
              "     'sectionBodyIconShow': True,\n",
              "     'goto': 'copingWithCrisis',\n",
              "     'themeColor': '#B6AEDA',\n",
              "     'sectionHeaderRepresentative': {'text': 'My Coping with Crisis',\n",
              "      'itemSection': 'homeCopingCrisisHeader',\n",
              "      'colors': ['#E1BBFF', '#E1BBFF'],\n",
              "      'locations': [0.51, 0.51]}}]},\n",
              "  'barrierSection': {'BarrierCards': [{'componentKey': 'Prefer help from family or friends',\n",
              "     'title': 'Prefer help from family or friends',\n",
              "     'description': '',\n",
              "     'progress': 33.3,\n",
              "     'sectionImageShow': True,\n",
              "     'cardImageShow': True,\n",
              "     'sectionBodyDescriptionShow': True,\n",
              "     'sectionBodyIconShow': True,\n",
              "     'goto': 'barrierTwoFirst',\n",
              "     'themeColor': '#2D9CDB',\n",
              "     'progressBackgroundColor': '#D3ECFB'},\n",
              "    {'componentKey': 'Prefer help from family or friends',\n",
              "     'title': 'Prefer help from family or friends',\n",
              "     'description': '',\n",
              "     'progress': 33.3,\n",
              "     'sectionImageShow': True,\n",
              "     'cardImageShow': True,\n",
              "     'sectionBodyDescriptionShow': True,\n",
              "     'sectionBodyIconShow': True,\n",
              "     'goto': 'barrierTwoFirst',\n",
              "     'themeColor': '#2D9CDB',\n",
              "     'progressBackgroundColor': '#D3ECFB'},\n",
              "    {'componentKey': 'Others don’t think it’s a problem',\n",
              "     'title': 'Others don’t think it’s a problem',\n",
              "     'description': '',\n",
              "     'progress': 33.3,\n",
              "     'sectionImageShow': True,\n",
              "     'cardImageShow': True,\n",
              "     'sectionBodyDescriptionShow': True,\n",
              "     'sectionBodyIconShow': True,\n",
              "     'goto': 'barrierSix',\n",
              "     'themeColor': '#2D9CDB',\n",
              "     'progressBackgroundColor': '#D3ECFB'}]},\n",
              "  'selfDiscoverySection': {'SelfDiscoveryCards': [{'componentKey': 'HOME_SD_LEVEL_1',\n",
              "     'title': 'Weight of my problem',\n",
              "     'description': '',\n",
              "     'progress': 33.3,\n",
              "     'sectionImageShow': True,\n",
              "     'cardImageShow': True,\n",
              "     'sectionBodyDescriptionShow': True,\n",
              "     'sectionBodyIconShow': True,\n",
              "     'goto': 'sdLevel1',\n",
              "     'themeColor': '#FF9A51',\n",
              "     'progressBackgroundColor': '#FFD8BB'},\n",
              "    {'componentKey': 'HOME_SD_LEVEL_2',\n",
              "     'title': 'Familiar stories',\n",
              "     'description': '',\n",
              "     'progress': 33.3,\n",
              "     'sectionImageShow': True,\n",
              "     'cardImageShow': True,\n",
              "     'sectionBodyDescriptionShow': True,\n",
              "     'sectionBodyIconShow': True,\n",
              "     'goto': 'sdLevel2',\n",
              "     'themeColor': '#FF9A51',\n",
              "     'progressBackgroundColor': '#FFD8BB'}]}},\n",
              " 'selfDiscoveryState': {'showBackButtonModal': False,\n",
              "  'level3': {'isLocked': True,\n",
              "   'progressValue': 12.5,\n",
              "   'responses': {'GADSectionResponse': {},\n",
              "    'PHQSectionResponse': {},\n",
              "    'WsasResponse': {}},\n",
              "   'homeState': {'anxiousCard': {'completed': False, 'locked': True},\n",
              "    'lowCard': {'completed': False, 'locked': True},\n",
              "    'functioningCard': {'completed': False, 'locked': True},\n",
              "    'result': {'completed': False, 'locked': True},\n",
              "    'homeTypeChosen': None}},\n",
              "  'showIntro': False,\n",
              "  'sdLevel1ReportChosen': 'SECOND_REPORT_CHOSEN',\n",
              "  'level1': {'isLocked': False,\n",
              "   'responses': {'1': {'answer': 'a week', 'prev': None, 'next': 2},\n",
              "    '2': {'answer': 'rarely', 'prev': 1, 'next': 3},\n",
              "    '3': {'answer': 'rarely', 'prev': 2, 'next': 4},\n",
              "    '4': {'answer': 'not confident at all', 'prev': 3, 'next': None}},\n",
              "   'progressValue': 100},\n",
              "  'level2': {'progressValue': 12.5,\n",
              "   'isLocked': False,\n",
              "   'responses': {'VignetteSectionResponse': {},\n",
              "    'DiscoveringEmotionResponse': {'quid1': {'answer': {'quid1': {'1': False,\n",
              "        '2': False,\n",
              "        '3': True,\n",
              "        '4': False}},\n",
              "      'next': 'quid2',\n",
              "      'prev': 'quid1'}}}}},\n",
              " 'breakingBarrierState': {'showBackButtonModal': False,\n",
              "  'showSelectedMenu': True,\n",
              "  'expertVideoWatched': False,\n",
              "  'clientVideoWatched': False,\n",
              "  'currentBarrierIndex': 0,\n",
              "  'barriersState': {'It’s just a passing phase': {'responses': {}},\n",
              "   'Prefer help from family or friends': {'responses': {}},\n",
              "   'Counselling will mean I’m weak': {'responses': {}},\n",
              "   'Afraid how it affects my job or family': {'responses': {}},\n",
              "   'Fear of negative labels': {'responses': {}},\n",
              "   'Others don’t think it’s a problem': {'responses': {}},\n",
              "   'Difficult to get support to seek help': {'responses': {}},\n",
              "   'Talking might make it worse': {'responses': {}},\n",
              "   'Dislike talking about my feelings': {'responses': {}},\n",
              "   'Doubts about treatment options': {'responses': {'Doubts about treatment options': {}}},\n",
              "   'Afraid to consult a professional again': {'responses': {}},\n",
              "   'Doubtful if therapy helps': {'responses': {}},\n",
              "   'I don’t trust therapists': {'responses': {}},\n",
              "   'Inaccessibility of services': {'responses': {}},\n",
              "   'Professional help is costly': {'responses': {}},\n",
              "   'No time to consult': {'responses': {'No time to consult': {}}},\n",
              "   'Difficult to leave home': {'responses': {}}},\n",
              "  'showIntro': False,\n",
              "  'showMenu': False,\n",
              "  'completedBarriers': ['Prefer help from family or friends'],\n",
              "  'selectedBarriers': ['Others don’t think it’s a problem'],\n",
              "  'transitComponentList': ['barrierFeedback', 'barrierExpertVideo']},\n",
              " 'copingWithCrisisState': {'showIntro': True,\n",
              "  'showBackButtonModal': False,\n",
              "  'cclevel1': {'isLocked': False, 'progressValue': 100, 'responses': {}},\n",
              "  'cclevel2': {'isLocked': False, 'progressValue': 12.5, 'responses': {}},\n",
              "  'cclevel3': {'isLocked': True,\n",
              "   'progressValue': 12.5,\n",
              "   'responses': {'crisisStoreContact': {},\n",
              "    'crisisCreatePlan': {},\n",
              "    'crisisSendTrustedPersonMessage': {}}}},\n",
              " 'selfCriticalityState': {'showMainIntro': True,\n",
              "  'showBackButtonModal': False,\n",
              "  'showSelectedMenu': False,\n",
              "  'level1': {'isLocked': False, 'progressValue': 12.5, 'responses': {}},\n",
              "  'level2': {'isLocked': True, 'progressValue': 12.5, 'responses': {}},\n",
              "  'level3': {'isLocked': True,\n",
              "   'progressValue': 12.5,\n",
              "   'reminder': '',\n",
              "   'responses': {}}},\n",
              " 'managingWorryState': {'showMainIntro': True,\n",
              "  'showBackButtonModal': False,\n",
              "  'showSelectedMenu': False,\n",
              "  'level1': {'isLocked': False, 'progressValue': 12.5, 'responses': {}},\n",
              "  'level2': {'isLocked': True,\n",
              "   'progressValue': 12.5,\n",
              "   'startDate': '',\n",
              "   'endDate': '',\n",
              "   'time': '',\n",
              "   'duration': '',\n",
              "   'responses': {}},\n",
              "  'level3': {'isLocked': True, 'progressValue': 12.5, 'responses': {}}},\n",
              " 'negativeThoughtsState': {'showMainIntro': True,\n",
              "  'showBackButtonModal': False,\n",
              "  'showSelectedMenu': False,\n",
              "  'level1': {'isLocked': False, 'progressValue': 12.5, 'responses': {}},\n",
              "  'level2': {'isLocked': True, 'progressValue': 12.5, 'responses': {}},\n",
              "  'level3': {'isLocked': True, 'progressValue': 12.5, 'responses': {}}},\n",
              " 'calmingSoothingState': {'showMainIntro': True,\n",
              "  'showBackButtonModal': False,\n",
              "  'showSelectedMenu': False,\n",
              "  'level1': {'isLocked': False, 'progressValue': 12.5, 'responses': {}},\n",
              "  'level2': {'isLocked': True, 'progressValue': 12.5, 'responses': {}},\n",
              "  'level3': {'isLocked': True,\n",
              "   'progressValue': 12.5,\n",
              "   'reminder': '',\n",
              "   'responses': {}}},\n",
              " '_persist': {'version': -1, 'rehydrated': True}}"
            ]
          },
          "execution_count": 2,
          "metadata": {},
          "output_type": "execute_result"
        }
      ],
      "source": [
        "import json\n",
        "\n",
        "jsonData = json.loads(df[\"AppState\"][0])\n",
        "jsonData\n"
      ]
    },
    {
      "cell_type": "code",
      "execution_count": 3,
      "metadata": {},
      "outputs": [
        {
          "data": {
            "text/plain": [
              "{'showBackButtonModal': False,\n",
              " 'showSelectedMenu': True,\n",
              " 'expertVideoWatched': False,\n",
              " 'clientVideoWatched': False,\n",
              " 'currentBarrierIndex': 0,\n",
              " 'barriersState': {'It’s just a passing phase': {'responses': {}},\n",
              "  'Prefer help from family or friends': {'responses': {}},\n",
              "  'Counselling will mean I’m weak': {'responses': {}},\n",
              "  'Afraid how it affects my job or family': {'responses': {}},\n",
              "  'Fear of negative labels': {'responses': {}},\n",
              "  'Others don’t think it’s a problem': {'responses': {}},\n",
              "  'Difficult to get support to seek help': {'responses': {}},\n",
              "  'Talking might make it worse': {'responses': {}},\n",
              "  'Dislike talking about my feelings': {'responses': {}},\n",
              "  'Doubts about treatment options': {'responses': {'Doubts about treatment options': {}}},\n",
              "  'Afraid to consult a professional again': {'responses': {}},\n",
              "  'Doubtful if therapy helps': {'responses': {}},\n",
              "  'I don’t trust therapists': {'responses': {}},\n",
              "  'Inaccessibility of services': {'responses': {}},\n",
              "  'Professional help is costly': {'responses': {}},\n",
              "  'No time to consult': {'responses': {'No time to consult': {}}},\n",
              "  'Difficult to leave home': {'responses': {}}},\n",
              " 'showIntro': False,\n",
              " 'showMenu': False,\n",
              " 'completedBarriers': ['Prefer help from family or friends'],\n",
              " 'selectedBarriers': ['Others don’t think it’s a problem'],\n",
              " 'transitComponentList': ['barrierFeedback', 'barrierExpertVideo']}"
            ]
          },
          "execution_count": 3,
          "metadata": {},
          "output_type": "execute_result"
        }
      ],
      "source": [
        "barrierDf = jsonData[\"breakingBarrierState\"]\n",
        "\n",
        "barrierDf"
      ]
    },
    {
      "cell_type": "code",
      "execution_count": 4,
      "metadata": {},
      "outputs": [],
      "source": [
        "# Has user watched expert video.\n",
        "# later have userId as params\n",
        "def checkExpertVideoWatched():\n",
        "    return barrierDf['expertVideoWatched']\n",
        "\n",
        "\n",
        "# Has user watched client video.\n",
        "# later have userId as params\n",
        "def checkClientVideoWatched():\n",
        "    return barrierDf['clientVideoWatched']\n",
        "\n",
        "\n",
        "# Check which barriers have been watched by the user.\n",
        "# later have userId as params\n",
        "def checkBarriersWatched():\n",
        "    return barrierDf[\"completedBarriers\"]\n",
        "\n",
        "\n",
        "def checkBarrierResponses(barrierName):\n",
        "    if barrierName in barrierDf[\"barriersState\"][barrierName][\"responses\"]:\n",
        "        return barrierDf[\"barriersState\"][barrierName][\"responses\"][barrierName]\n",
        "    else :\n",
        "        return None\n",
        "\n",
        "\n"
      ]
    },
    {
      "cell_type": "code",
      "execution_count": 5,
      "metadata": {},
      "outputs": [
        {
          "data": {
            "text/plain": [
              "True"
            ]
          },
          "execution_count": 5,
          "metadata": {},
          "output_type": "execute_result"
        }
      ],
      "source": [
        "checkBarrierResponses('Counselling will mean I’m weak') == None\n"
      ]
    },
    {
      "cell_type": "code",
      "execution_count": 6,
      "metadata": {},
      "outputs": [
        {
          "data": {
            "text/plain": [
              "False"
            ]
          },
          "execution_count": 6,
          "metadata": {},
          "output_type": "execute_result"
        }
      ],
      "source": [
        "checkExpertVideoWatched()\n"
      ]
    },
    {
      "cell_type": "code",
      "execution_count": 7,
      "metadata": {},
      "outputs": [],
      "source": [
        "BarrierNoTimeToConsultActivities = checkBarrierResponses('No time to consult')\n"
      ]
    },
    {
      "cell_type": "code",
      "execution_count": 8,
      "metadata": {},
      "outputs": [],
      "source": [
        "barrierActivityList  = []\n",
        "for activityResponse in range(len(BarrierNoTimeToConsultActivities)):\n",
        "    barrierActivityList.append(BarrierNoTimeToConsultActivities[str(activityResponse + 1)]['answer'])"
      ]
    },
    {
      "cell_type": "code",
      "execution_count": 9,
      "metadata": {},
      "outputs": [
        {
          "data": {
            "text/plain": [
              "[]"
            ]
          },
          "execution_count": 9,
          "metadata": {},
          "output_type": "execute_result"
        }
      ],
      "source": [
        "barrierActivityList\n"
      ]
    },
    {
      "cell_type": "code",
      "execution_count": 10,
      "metadata": {},
      "outputs": [],
      "source": [
        "barrierListNames = {}\n",
        "count =  1\n",
        "for barrierName in barrierDf[\"barriersState\"].keys():\n",
        "    barrierListNames[\"BB\"+str(count)] = barrierName\n",
        "    count += 1\n"
      ]
    },
    {
      "cell_type": "code",
      "execution_count": 11,
      "metadata": {},
      "outputs": [
        {
          "data": {
            "text/plain": [
              "{'BB1': 'It’s just a passing phase',\n",
              " 'BB2': 'Prefer help from family or friends',\n",
              " 'BB3': 'Counselling will mean I’m weak',\n",
              " 'BB4': 'Afraid how it affects my job or family',\n",
              " 'BB5': 'Fear of negative labels',\n",
              " 'BB6': 'Others don’t think it’s a problem',\n",
              " 'BB7': 'Difficult to get support to seek help',\n",
              " 'BB8': 'Talking might make it worse',\n",
              " 'BB9': 'Dislike talking about my feelings',\n",
              " 'BB10': 'Doubts about treatment options',\n",
              " 'BB11': 'Afraid to consult a professional again',\n",
              " 'BB12': 'Doubtful if therapy helps',\n",
              " 'BB13': 'I don’t trust therapists',\n",
              " 'BB14': 'Inaccessibility of services',\n",
              " 'BB15': 'Professional help is costly',\n",
              " 'BB16': 'No time to consult',\n",
              " 'BB17': 'Difficult to leave home'}"
            ]
          },
          "execution_count": 11,
          "metadata": {},
          "output_type": "execute_result"
        }
      ],
      "source": [
        "barrierListNames"
      ]
    },
    {
      "cell_type": "code",
      "execution_count": 12,
      "metadata": {},
      "outputs": [],
      "source": [
        "def checkKeyExists(keyProp, item):\n",
        "    if keyProp in item.keys():\n",
        "        return True\n",
        "    else:\n",
        "        return False"
      ]
    },
    {
      "cell_type": "code",
      "execution_count": 13,
      "metadata": {},
      "outputs": [
        {
          "data": {
            "text/plain": [
              "'\\nbarrierFinalDf[\"UserId\"] = \"5704b8c3-0e67-4127-4d78-08d8cc33525c\"\\nbarrierFinalDf[\"expertVideoWatched\"] = barrierDf[\"expertVideoWatched\"]\\nbarrierFinalDf[\"clientVideoWatched\"] = barrierDf[\"clientVideoWatched\"]\\n# saved Posters doesnt exist. Add it later to fix it.\\nbarrierFinalDf[\"completedBarriers\"] = barrierDf[\"completedBarriers\"]\\nbarrierFinalDf[\"selectedBarriers\"] = barrierDf[\"selectedBarriers\"]\\n'"
            ]
          },
          "execution_count": 13,
          "metadata": {},
          "output_type": "execute_result"
        }
      ],
      "source": [
        "'''\n",
        "barrierFinalDf[\"UserId\"] = \"5704b8c3-0e67-4127-4d78-08d8cc33525c\"\n",
        "barrierFinalDf[\"expertVideoWatched\"] = barrierDf[\"expertVideoWatched\"]\n",
        "barrierFinalDf[\"clientVideoWatched\"] = barrierDf[\"clientVideoWatched\"]\n",
        "# saved Posters doesnt exist. Add it later to fix it.\n",
        "barrierFinalDf[\"completedBarriers\"] = barrierDf[\"completedBarriers\"]\n",
        "barrierFinalDf[\"selectedBarriers\"] = barrierDf[\"selectedBarriers\"]\n",
        "'''\n",
        "\n",
        "\n",
        "\n"
      ]
    },
    {
      "cell_type": "code",
      "execution_count": 15,
      "metadata": {},
      "outputs": [
        {
          "data": {
            "text/plain": [
              "True"
            ]
          },
          "execution_count": 15,
          "metadata": {},
          "output_type": "execute_result"
        }
      ],
      "source": [
        "checkKeyExists(\"expertVideoWatched\", barrierDf)"
      ]
    },
    {
      "cell_type": "code",
      "execution_count": 16,
      "metadata": {},
      "outputs": [
        {
          "data": {
            "text/plain": [
              "nan"
            ]
          },
          "execution_count": 16,
          "metadata": {},
          "output_type": "execute_result"
        }
      ],
      "source": [
        "import numpy as np\n",
        "np.nan"
      ]
    },
    {
      "cell_type": "code",
      "execution_count": 17,
      "metadata": {},
      "outputs": [],
      "source": [
        "totalEntries = df[\"UserId\"].size\n",
        "\n",
        "userList = []\n",
        "expertVideoList = []\n",
        "clientVideoList = []\n",
        "savedPosterList = []\n",
        "completedBarriersList =[]\n",
        "selectedBarriersList = []\n",
        "\n",
        "\n",
        "for item in range(totalEntries):\n",
        "    userList.append(df[\"UserId\"][item])\n",
        "    jsonData = json.loads(df[\"AppState\"][item])    \n",
        "    barrierDf = jsonData[\"breakingBarrierState\"]\n",
        "    expertVideoList.append(barrierDf[\"expertVideoWatched\"])\n",
        "    clientVideoList.append(barrierDf[\"clientVideoWatched\"])\n",
        "    if(checkKeyExists(\"savedPosters\", barrierDf) == True):\n",
        "        savedPosterList.append(barrierDf[\"savedPosters\"])\n",
        "    else:\n",
        "        savedPosterList.append(np.nan)\n",
        "    \n",
        "    completedBarriersList.append(barrierDf[\"completedBarriers\"])\n",
        "\n",
        "    selectedBarriersList.append(barrierDf[\"selectedBarriers\"])\n"
      ]
    },
    {
      "cell_type": "code",
      "execution_count": 18,
      "metadata": {},
      "outputs": [],
      "source": [
        "import pandas as pd\n",
        "\n",
        "# to check if we want to include individual barrier info.\n",
        "\n",
        "barrierFinalDf = pd.DataFrame({\"UserId\":userList, \"expertVideoWatched\": expertVideoList, \"clientVideoWatched\":clientVideoList, \"savedPosters\" :savedPosterList, \"completedBarriers\":completedBarriersList, \"selectedBarriers\":selectedBarriersList})"
      ]
    },
    {
      "cell_type": "code",
      "execution_count": 19,
      "metadata": {},
      "outputs": [
        {
          "data": {
            "text/html": [
              "<div>\n",
              "<style scoped>\n",
              "    .dataframe tbody tr th:only-of-type {\n",
              "        vertical-align: middle;\n",
              "    }\n",
              "\n",
              "    .dataframe tbody tr th {\n",
              "        vertical-align: top;\n",
              "    }\n",
              "\n",
              "    .dataframe thead th {\n",
              "        text-align: right;\n",
              "    }\n",
              "</style>\n",
              "<table border=\"1\" class=\"dataframe\">\n",
              "  <thead>\n",
              "    <tr style=\"text-align: right;\">\n",
              "      <th></th>\n",
              "      <th>UserId</th>\n",
              "      <th>expertVideoWatched</th>\n",
              "      <th>clientVideoWatched</th>\n",
              "      <th>savedPosters</th>\n",
              "      <th>completedBarriers</th>\n",
              "      <th>selectedBarriers</th>\n",
              "    </tr>\n",
              "  </thead>\n",
              "  <tbody>\n",
              "    <tr>\n",
              "      <th>0</th>\n",
              "      <td>5704b8c3-0e67-4127-4d78-08d8cc33525c</td>\n",
              "      <td>False</td>\n",
              "      <td>False</td>\n",
              "      <td>NaN</td>\n",
              "      <td>[Prefer help from family or friends]</td>\n",
              "      <td>[Others don’t think it’s a problem]</td>\n",
              "    </tr>\n",
              "    <tr>\n",
              "      <th>1</th>\n",
              "      <td>b93d2a00-fe4a-4b0f-4d7a-08d8cc33525c</td>\n",
              "      <td>True</td>\n",
              "      <td>True</td>\n",
              "      <td>NaN</td>\n",
              "      <td>[Prefer help from family or friends, It’s just...</td>\n",
              "      <td>[Others don’t think it’s a problem, Difficult ...</td>\n",
              "    </tr>\n",
              "    <tr>\n",
              "      <th>2</th>\n",
              "      <td>b6a54ac9-3268-4ecb-4d7b-08d8cc33525c</td>\n",
              "      <td>False</td>\n",
              "      <td>False</td>\n",
              "      <td>[]</td>\n",
              "      <td>[]</td>\n",
              "      <td>[]</td>\n",
              "    </tr>\n",
              "    <tr>\n",
              "      <th>3</th>\n",
              "      <td>4d65f14e-74b2-4077-4d7e-08d8cc33525c</td>\n",
              "      <td>False</td>\n",
              "      <td>False</td>\n",
              "      <td>[]</td>\n",
              "      <td>[]</td>\n",
              "      <td>[]</td>\n",
              "    </tr>\n",
              "    <tr>\n",
              "      <th>4</th>\n",
              "      <td>46557658-06af-4808-4d7f-08d8cc33525c</td>\n",
              "      <td>True</td>\n",
              "      <td>True</td>\n",
              "      <td>NaN</td>\n",
              "      <td>[It’s just a passing phase, Prefer help from f...</td>\n",
              "      <td>[Others don’t think it’s a problem, Difficult ...</td>\n",
              "    </tr>\n",
              "    <tr>\n",
              "      <th>5</th>\n",
              "      <td>c1f1cfbb-28b0-4788-4d80-08d8cc33525c</td>\n",
              "      <td>False</td>\n",
              "      <td>False</td>\n",
              "      <td>NaN</td>\n",
              "      <td>[]</td>\n",
              "      <td>[]</td>\n",
              "    </tr>\n",
              "    <tr>\n",
              "      <th>6</th>\n",
              "      <td>adeb096a-0090-4191-4d81-08d8cc33525c</td>\n",
              "      <td>False</td>\n",
              "      <td>False</td>\n",
              "      <td>NaN</td>\n",
              "      <td>[]</td>\n",
              "      <td>[]</td>\n",
              "    </tr>\n",
              "    <tr>\n",
              "      <th>7</th>\n",
              "      <td>17cb7b35-4653-4c2f-4d82-08d8cc33525c</td>\n",
              "      <td>False</td>\n",
              "      <td>False</td>\n",
              "      <td>[]</td>\n",
              "      <td>[]</td>\n",
              "      <td>[]</td>\n",
              "    </tr>\n",
              "    <tr>\n",
              "      <th>8</th>\n",
              "      <td>8ab775d5-6848-4687-4d83-08d8cc33525c</td>\n",
              "      <td>False</td>\n",
              "      <td>False</td>\n",
              "      <td>NaN</td>\n",
              "      <td>[]</td>\n",
              "      <td>[Dislike talking about my feelings, I don’t tr...</td>\n",
              "    </tr>\n",
              "    <tr>\n",
              "      <th>9</th>\n",
              "      <td>f1031320-6c06-41bb-4d86-08d8cc33525c</td>\n",
              "      <td>False</td>\n",
              "      <td>False</td>\n",
              "      <td>NaN</td>\n",
              "      <td>[Talking might make it worse, Dislike talking ...</td>\n",
              "      <td>[Others don’t think it’s a problem]</td>\n",
              "    </tr>\n",
              "    <tr>\n",
              "      <th>10</th>\n",
              "      <td>560fce02-1819-4493-4d87-08d8cc33525c</td>\n",
              "      <td>False</td>\n",
              "      <td>False</td>\n",
              "      <td>NaN</td>\n",
              "      <td>[]</td>\n",
              "      <td>[]</td>\n",
              "    </tr>\n",
              "    <tr>\n",
              "      <th>11</th>\n",
              "      <td>3e6c01d2-603b-4553-4d88-08d8cc33525c</td>\n",
              "      <td>False</td>\n",
              "      <td>False</td>\n",
              "      <td>NaN</td>\n",
              "      <td>[]</td>\n",
              "      <td>[]</td>\n",
              "    </tr>\n",
              "    <tr>\n",
              "      <th>12</th>\n",
              "      <td>18570ac4-1dda-46e5-bc91-08d8d6f4dffc</td>\n",
              "      <td>False</td>\n",
              "      <td>False</td>\n",
              "      <td>[]</td>\n",
              "      <td>[Others don’t think it’s a problem, Difficult ...</td>\n",
              "      <td>[]</td>\n",
              "    </tr>\n",
              "    <tr>\n",
              "      <th>13</th>\n",
              "      <td>c88ec046-af5b-42e4-e5a7-08d8deeb08c6</td>\n",
              "      <td>False</td>\n",
              "      <td>False</td>\n",
              "      <td>NaN</td>\n",
              "      <td>[]</td>\n",
              "      <td>[]</td>\n",
              "    </tr>\n",
              "    <tr>\n",
              "      <th>14</th>\n",
              "      <td>474bedfb-bfe7-4fbb-e5a8-08d8deeb08c6</td>\n",
              "      <td>False</td>\n",
              "      <td>False</td>\n",
              "      <td>NaN</td>\n",
              "      <td>[]</td>\n",
              "      <td>[]</td>\n",
              "    </tr>\n",
              "    <tr>\n",
              "      <th>15</th>\n",
              "      <td>e8e95a0c-0267-4201-7b10-08d8f45c19aa</td>\n",
              "      <td>False</td>\n",
              "      <td>False</td>\n",
              "      <td>[]</td>\n",
              "      <td>[]</td>\n",
              "      <td>[]</td>\n",
              "    </tr>\n",
              "    <tr>\n",
              "      <th>16</th>\n",
              "      <td>cfc020c0-1b36-4a41-c041-08d8f98f9467</td>\n",
              "      <td>False</td>\n",
              "      <td>False</td>\n",
              "      <td>[]</td>\n",
              "      <td>[]</td>\n",
              "      <td>[]</td>\n",
              "    </tr>\n",
              "    <tr>\n",
              "      <th>17</th>\n",
              "      <td>214df20d-8b7b-470c-7783-08d9000d5fcd</td>\n",
              "      <td>False</td>\n",
              "      <td>False</td>\n",
              "      <td>[]</td>\n",
              "      <td>[]</td>\n",
              "      <td>[]</td>\n",
              "    </tr>\n",
              "    <tr>\n",
              "      <th>18</th>\n",
              "      <td>5b833480-ed73-40a3-7784-08d9000d5fcd</td>\n",
              "      <td>False</td>\n",
              "      <td>False</td>\n",
              "      <td>[]</td>\n",
              "      <td>[]</td>\n",
              "      <td>[]</td>\n",
              "    </tr>\n",
              "  </tbody>\n",
              "</table>\n",
              "</div>"
            ],
            "text/plain": [
              "                                  UserId  expertVideoWatched  \\\n",
              "0   5704b8c3-0e67-4127-4d78-08d8cc33525c               False   \n",
              "1   b93d2a00-fe4a-4b0f-4d7a-08d8cc33525c                True   \n",
              "2   b6a54ac9-3268-4ecb-4d7b-08d8cc33525c               False   \n",
              "3   4d65f14e-74b2-4077-4d7e-08d8cc33525c               False   \n",
              "4   46557658-06af-4808-4d7f-08d8cc33525c                True   \n",
              "5   c1f1cfbb-28b0-4788-4d80-08d8cc33525c               False   \n",
              "6   adeb096a-0090-4191-4d81-08d8cc33525c               False   \n",
              "7   17cb7b35-4653-4c2f-4d82-08d8cc33525c               False   \n",
              "8   8ab775d5-6848-4687-4d83-08d8cc33525c               False   \n",
              "9   f1031320-6c06-41bb-4d86-08d8cc33525c               False   \n",
              "10  560fce02-1819-4493-4d87-08d8cc33525c               False   \n",
              "11  3e6c01d2-603b-4553-4d88-08d8cc33525c               False   \n",
              "12  18570ac4-1dda-46e5-bc91-08d8d6f4dffc               False   \n",
              "13  c88ec046-af5b-42e4-e5a7-08d8deeb08c6               False   \n",
              "14  474bedfb-bfe7-4fbb-e5a8-08d8deeb08c6               False   \n",
              "15  e8e95a0c-0267-4201-7b10-08d8f45c19aa               False   \n",
              "16  cfc020c0-1b36-4a41-c041-08d8f98f9467               False   \n",
              "17  214df20d-8b7b-470c-7783-08d9000d5fcd               False   \n",
              "18  5b833480-ed73-40a3-7784-08d9000d5fcd               False   \n",
              "\n",
              "    clientVideoWatched savedPosters  \\\n",
              "0                False          NaN   \n",
              "1                 True          NaN   \n",
              "2                False           []   \n",
              "3                False           []   \n",
              "4                 True          NaN   \n",
              "5                False          NaN   \n",
              "6                False          NaN   \n",
              "7                False           []   \n",
              "8                False          NaN   \n",
              "9                False          NaN   \n",
              "10               False          NaN   \n",
              "11               False          NaN   \n",
              "12               False           []   \n",
              "13               False          NaN   \n",
              "14               False          NaN   \n",
              "15               False           []   \n",
              "16               False           []   \n",
              "17               False           []   \n",
              "18               False           []   \n",
              "\n",
              "                                    completedBarriers  \\\n",
              "0                [Prefer help from family or friends]   \n",
              "1   [Prefer help from family or friends, It’s just...   \n",
              "2                                                  []   \n",
              "3                                                  []   \n",
              "4   [It’s just a passing phase, Prefer help from f...   \n",
              "5                                                  []   \n",
              "6                                                  []   \n",
              "7                                                  []   \n",
              "8                                                  []   \n",
              "9   [Talking might make it worse, Dislike talking ...   \n",
              "10                                                 []   \n",
              "11                                                 []   \n",
              "12  [Others don’t think it’s a problem, Difficult ...   \n",
              "13                                                 []   \n",
              "14                                                 []   \n",
              "15                                                 []   \n",
              "16                                                 []   \n",
              "17                                                 []   \n",
              "18                                                 []   \n",
              "\n",
              "                                     selectedBarriers  \n",
              "0                 [Others don’t think it’s a problem]  \n",
              "1   [Others don’t think it’s a problem, Difficult ...  \n",
              "2                                                  []  \n",
              "3                                                  []  \n",
              "4   [Others don’t think it’s a problem, Difficult ...  \n",
              "5                                                  []  \n",
              "6                                                  []  \n",
              "7                                                  []  \n",
              "8   [Dislike talking about my feelings, I don’t tr...  \n",
              "9                 [Others don’t think it’s a problem]  \n",
              "10                                                 []  \n",
              "11                                                 []  \n",
              "12                                                 []  \n",
              "13                                                 []  \n",
              "14                                                 []  \n",
              "15                                                 []  \n",
              "16                                                 []  \n",
              "17                                                 []  \n",
              "18                                                 []  "
            ]
          },
          "execution_count": 19,
          "metadata": {},
          "output_type": "execute_result"
        }
      ],
      "source": [
        "barrierFinalDf"
      ]
    },
    {
      "cell_type": "code",
      "execution_count": 20,
      "metadata": {},
      "outputs": [],
      "source": [
        "local_path = 'Users/v-pratec/data/breakingBarriers.csv'\n",
        "\n",
        "barrierFinalDf.to_csv(local_path)"
      ]
    },
    {
      "cell_type": "code",
      "execution_count": 21,
      "metadata": {},
      "outputs": [
        {
          "name": "stdout",
          "output_type": "stream",
          "text": [
            "Uploading an estimated of 4 files\n",
            "Target already exists. Skipping upload for Users/v-pratec/data/.amlignore\n",
            "Target already exists. Skipping upload for Users/v-pratec/data/.amlignore.amltmp\n",
            "Target already exists. Skipping upload for Users/v-pratec/data/selfDiscovery.csv\n",
            "Uploading Users/v-pratec/data/breakingBarriers.csv\n",
            "Uploaded Users/v-pratec/data/breakingBarriers.csv, 1 files out of an estimated total of 2\n",
            "Uploaded 1 files\n"
          ]
        },
        {
          "data": {
            "text/plain": [
              "$AZUREML_DATAREFERENCE_a32a05b64eb540c4b479fa81b889fcb2"
            ]
          },
          "execution_count": 21,
          "metadata": {},
          "output_type": "execute_result"
        }
      ],
      "source": [
        "datastore = workspace.get_default_datastore()\n",
        "# upload the local file from src_dir to the target_path in datastore\n",
        "datastore.upload(src_dir='Users/v-pratec/data', target_path='Users/v-pratec/data')"
      ]
    },
    {
      "cell_type": "code",
      "execution_count": 22,
      "metadata": {},
      "outputs": [],
      "source": [
        "barriersDs = Dataset.Tabular.from_delimited_files(datastore.path('Users/v-pratec/data/breakingBarriers.csv'))\n"
      ]
    },
    {
      "cell_type": "code",
      "execution_count": null,
      "metadata": {},
      "outputs": [],
      "source": []
    }
  ],
  "metadata": {
    "interpreter": {
      "hash": "cd2cf95eab98bc0aed90d7d4dceee09ebf5cdc1e2081a14507931389ba1690a4"
    },
    "kernel_info": {
      "name": "python3"
    },
    "kernelspec": {
      "display_name": "Python 3.6 - AzureML",
      "language": "python",
      "name": "python3-azureml"
    },
    "language_info": {
      "name": "python",
      "version": ""
    },
    "nteract": {
      "version": "nteract-front-end@1.0.0"
    },
    "orig_nbformat": 4
  },
  "nbformat": 4,
  "nbformat_minor": 2
}