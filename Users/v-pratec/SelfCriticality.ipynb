{
  "cells": [
    {
      "cell_type": "code",
      "source": [
        "# azureml-core of version 1.0.72 or higher is required\n",
        "# azureml-dataprep[pandas] of version 1.1.34 or higher is required\n",
        "from azureml.core import Workspace, Dataset\n",
        "\n",
        "subscription_id = 'c01a4630-cc02-4828-9991-41259d9cb1a4'\n",
        "resource_group = 'bot-resource-group'\n",
        "workspace_name = 'MindNotesAnalysis'\n",
        "\n",
        "workspace = Workspace(subscription_id, resource_group, workspace_name)\n",
        "\n",
        "dataset = Dataset.get_by_name(workspace, name='UserDetails')\n",
        "df = dataset.to_pandas_dataframe()"
      ],
      "outputs": [],
      "execution_count": 3,
      "metadata": {}
    },
    {
      "cell_type": "code",
      "source": [
        "import json\n",
        "\n",
        "jsonData = json.loads(df[\"AppState\"][1])\n",
        "\n",
        "selfCriticalityDf = jsonData[\"selfCriticalityState\"]\n"
      ],
      "outputs": [],
      "execution_count": 21,
      "metadata": {}
    },
    {
      "cell_type": "code",
      "source": [
        "selfCriticalityDf"
      ],
      "outputs": [
        {
          "output_type": "execute_result",
          "execution_count": 22,
          "data": {
            "text/plain": "{'showSelectedMenu': False,\n 'showMainIntro': False,\n 'level1': {'isLocked': False,\n  'responses': {'1': {'answer': '', 'prev': None, 'next': 2},\n   '2': {'answer': '', 'prev': 1, 'next': 3},\n   '3': {'answer': '', 'prev': 2, 'next': 4},\n   '4': {'answer': '', 'prev': 3, 'next': 5},\n   '5': {'answer': '', 'prev': 4, 'next': 6},\n   '6': {'answer': '', 'prev': 5, 'next': 7},\n   '7': {'answer': '', 'prev': 6, 'next': 8},\n   '8': {'answer': 'Almost never', 'prev': 7, 'next': 9},\n   '9': {'answer': '', 'prev': 8, 'next': 10},\n   '10': {'answer': '', 'prev': 9, 'next': 11},\n   '11': {'answer': 'Almost never', 'prev': 10, 'next': 12},\n   '12': {'answer': '', 'prev': 11, 'next': None}},\n  'progressValue': 100},\n 'showBackButtonModal': True,\n 'level2': {'isLocked': False,\n  'responses': {'0': {'answer': ['Wed Feb 10 2021 12:31:16 GMT+0530 (IST)',\n     'Missing the',\n     'This is stressful',\n     \"It's human to make mistakes\",\n     'This is stressful'],\n    'prev': None,\n    'next': None}},\n  'progressValue': 100},\n 'level3': {'isLocked': False,\n  'progressValue': 100,\n  'reminder': 'Yes, twice',\n  'responses': {'0': {'answer': ['Wed Feb 10 2021 12:31:24 GMT+0530 (IST)',\n     '',\n     '',\n     '',\n     ''],\n    'prev': None,\n    'next': None},\n   '1': {'answer': ['Wed Feb 10 2021 12:31:50 GMT+0530 (IST)',\n     'Leytrt to myself'],\n    'prev': None,\n    'next': None},\n   '2': {'answer': ['Wed Feb 10 2021 12:32:28 GMT+0530 (IST)',\n     'Struggles',\n     'Wh',\n     '',\n     '?'],\n    'prev': None,\n    'next': None},\n   '3': {'answer': ['Wed Feb 10 2021 12:33:03 GMT+0530 (IST)',\n     'Dear friend ,testkng'],\n    'prev': None,\n    'next': None}}}}"
          },
          "metadata": {}
        }
      ],
      "execution_count": 22,
      "metadata": {}
    },
    {
      "cell_type": "code",
      "source": [
        "import enum\n",
        "\n",
        "class LevelNumber(enum.Enum):\n",
        "    level1 = \"level1\"\n",
        "    level2 = \"level2\"\n",
        "    level3 = \"level3\"\n",
        "  \n",
        "def checkLevelLockStatus(levelName, selfCriticalityDF):\n",
        "    return selfCriticalityDF[levelName][\"isLocked\"]\n",
        "\n",
        "def checkLevelProgressStatus(levelName, selfCriticalityDF):\n",
        "    return selfCriticalityDF[levelName][\"progressValue\"]\n",
        "\n",
        "\n",
        "# Seperate if else conditions added since later each code block would be customized per level\n",
        "def checkSCResponses(levelType, selfCriticalityDF):\n",
        "    if(levelType == LevelNumber.level1):\n",
        "        respDict = selfCriticalityDF[\"level1\"][\"responses\"]\n",
        "        resp = {}\n",
        "        for ke in respDict.keys():\n",
        "            key_resp = \"Q\"+ \"_\" + ke\n",
        "            resp[key_resp] = respDict[ke][\"answer\"]\n",
        "        return resp\n",
        "    elif(levelType == LevelNumber.level2):\n",
        "        respDict = selfCriticalityDF[\"level2\"][\"responses\"]\n",
        "        resp = {}\n",
        "        questionList = [\"timeOfRecording\", \"Think of a recent situation when you were critical towards yourself. Write down your self critical thoughts\", \"ACT1:Mindfulness\", \"ACT2:Common humanity\", \"ACT3:Kindness\"]\n",
        "        for ke in respDict.keys():\n",
        "            key_resp = \"Q\"+ \"_\" + ke\n",
        "            localResp = {}\n",
        "            for item in range(len(questionList)):\n",
        "                localResp[questionList[item]] =  respDict[ke][\"answer\"][item]\n",
        "            resp[key_resp] = localResp\n",
        "        return resp\n",
        "    else:\n",
        "        respDict = selfCriticalityDF[\"level3\"][\"responses\"]\n",
        "        resp = {}\n",
        "        questionList = [\"timeOfRecording\", \"Think of and describe about a current struggle.\",\"Express:Mindfulness\", \"Express:Common humanity\", \"Express:Kindness\"]\n",
        "\n",
        "        for ke in respDict.keys():\n",
        "            key_resp = \"Q\"+ \"_\" + ke\n",
        "            localResp = {}\n",
        "            for item in range(len(questionList)):\n",
        "                localResp[questionList[item]] =  respDict[ke][\"answer\"][item]\n",
        "            resp[key_resp] = localResp      \n",
        "        return resp\n",
        "\n",
        "\n"
      ],
      "outputs": [],
      "execution_count": 24,
      "metadata": {}
    },
    {
      "cell_type": "code",
      "source": [
        "checkLevelProgressStatus(\"level2\", selfCriticalityDf)"
      ],
      "outputs": [
        {
          "output_type": "execute_result",
          "execution_count": 26,
          "data": {
            "text/plain": "100"
          },
          "metadata": {}
        }
      ],
      "execution_count": 26,
      "metadata": {}
    },
    {
      "cell_type": "code",
      "source": [
        "checkSCResponses(LevelNumber.level2, selfCriticalityDf)"
      ],
      "outputs": [
        {
          "output_type": "execute_result",
          "execution_count": 27,
          "data": {
            "text/plain": "{'Q_0': {'timeOfRecording': 'Wed Feb 10 2021 12:31:16 GMT+0530 (IST)',\n  'Think of a recent situation when you were critical towards yourself. Write down your self critical thoughts': 'Missing the',\n  'ACT1:Mindfulness': 'This is stressful',\n  'ACT2:Common humanity': \"It's human to make mistakes\",\n  'ACT3:Kindness': 'This is stressful'}}"
          },
          "metadata": {}
        }
      ],
      "execution_count": 27,
      "metadata": {}
    },
    {
      "cell_type": "code",
      "source": [],
      "outputs": [],
      "execution_count": null,
      "metadata": {}
    }
  ],
  "metadata": {
    "interpreter": {
      "hash": "cd2cf95eab98bc0aed90d7d4dceee09ebf5cdc1e2081a14507931389ba1690a4"
    },
    "kernelspec": {
      "name": "python3",
      "language": "python",
      "display_name": "Python 3"
    },
    "language_info": {
      "name": "python",
      "version": "3.6.9",
      "mimetype": "text/x-python",
      "codemirror_mode": {
        "name": "ipython",
        "version": 3
      },
      "pygments_lexer": "ipython3",
      "nbconvert_exporter": "python",
      "file_extension": ".py"
    },
    "orig_nbformat": 4,
    "kernel_info": {
      "name": "python3"
    },
    "nteract": {
      "version": "nteract-front-end@1.0.0"
    }
  },
  "nbformat": 4,
  "nbformat_minor": 2
}