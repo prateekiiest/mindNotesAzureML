{
 "cells": [
  {
   "cell_type": "code",
   "execution_count": 7,
   "id": "dcc30917",
   "metadata": {},
   "outputs": [],
   "source": [
    "# azureml-core of version 1.0.72 or higher is required\n",
    "# azureml-dataprep[pandas] of version 1.1.34 or higher is required\n",
    "from azureml.core import Workspace, Dataset\n",
    "\n",
    "subscription_id = 'c01a4630-cc02-4828-9991-41259d9cb1a4'\n",
    "resource_group = 'bot-resource-group'\n",
    "workspace_name = 'MindNotesAnalysis'\n",
    "\n",
    "workspace = Workspace(subscription_id, resource_group, workspace_name)\n",
    "\n",
    "dataset = Dataset.get_by_name(workspace, name='UserDetails')\n",
    "df = dataset.to_pandas_dataframe()"
   ]
  },
  {
   "cell_type": "code",
   "execution_count": 8,
   "id": "8844e254",
   "metadata": {},
   "outputs": [
    {
     "data": {
      "text/plain": [
       "'{\"currentApplicationState\":{\"shouldShowExpertFre\":true,\"maxLoginAttempts\":0,\"lastTimeStateUpdated\":\"2021-03-01T12:18:03.599Z\",\"isNewSession\":false,\"shouldShowFre\":false,\"sessionId\":\"7b1a2915-d74c-4fbd-aed2-b3f096ef44c9\",\"userId\":\"5704b8c3-0e67-4127-4d78-08d8cc33525c\"},\"currentUserState\":{\"loginState\":{\"showLoginFre\":false,\"userInfo\":{\"scopes\":[\"https://www.googleapis.com/auth/userinfo.profile\",\"https://www.googleapis.com/auth/userinfo.email\"],\"serverAuthCode\":null,\"idToken\":\"eyJhbGciOiJSUzI1NiIsImtpZCI6ImZlZDgwZmVjNTZkYjk5MjMzZDRiNGY2MGZiYWZkYmFlYjkxODZjNzMiLCJ0eXAiOiJKV1QifQ.eyJpc3MiOiJodHRwczovL2FjY291bnRzLmdvb2dsZS5jb20iLCJhenAiOiIzNDczODY2OTY2NTItMHM4MzVlNHY3a2VvYmhmNXU3M2Y2aGtuMDhlMzdjbzkuYXBwcy5nb29nbGV1c2VyY29udGVudC5jb20iLCJhdWQiOiIzNDczODY2OTY2NTItMWN0Y3NwbjNqY25waWs2MDg4a2U2N3ZrcGJlbXZrbXYuYXBwcy5nb29nbGV1c2VyY29udGVudC5jb20iLCJzdWIiOiIxMTI0MzI3ODc5MTA2MjIzNDIzNjQiLCJlbWFpbCI6ImNoYW5kYXJvYjIxQGdtYWlsLmNvbSIsImVtYWlsX3ZlcmlmaWVkIjp0cnVlLCJuYW1lIjoiUm9iIENoYW5kYSIsInBpY3R1cmUiOiJodHRwczovL2xoNC5nb29nbGV1c2VyY29udGVudC5jb20vLU5PUnBLc2VHLWpjL0FBQUFBQUFBQUFJL0FBQUFBQUFBQUFBL0FNWnV1Y2xRNnJubklZY01BLXN1dlRxWloydm9fd0lXekEvczk2LWMvcGhvdG8uanBnIiwiZ2l2ZW5fbmFtZSI6IlJvYiIsImZhbWlseV9uYW1lIjoiQ2hhbmRhIiwibG9jYWxlIjoiZW4iLCJpYXQiOjE2MTQ2MDkxMjgsImV4cCI6MTYxNDYxMjcyOH0.a3AeM5R1XvD9ZsqULyl3xlPima1WqoZ5hB0yNPu8EkgPM0so_QhVvzKn2IEGDfYZTsaRka7q9fkEMx4KIVR3mbbLTAn2JCndOBc5jnxHdCZxR0gPczoBTZ5TfhWcKnZ6nFtE7IK2Z-TNIhCl1OBzmScRSnLVB41AKMuOs8WcMm6sz66-CV4tSO1Kw1gjWvaV_tDIfvoxUU9jFd63BtysT8_qi7qnvAfIwfgBaBtaO3Zb3XEHbkBC_6KxvegEhpEighBxdGGf-jSFkMESYnuIvdnTTBemxunLmGuag6mNxzKH8f5RVIXjwH9-7OEYR6jK04arU6Af9NBX0xGbe-FUCg\",\"user\":{\"photo\":\"https://lh4.googleusercontent.com/-NORpKseG-jc/AAAAAAAAAAI/AAAAAAAAAAA/AMZuuclQ6rnnIYcMA-suvTqZZ2vo_wIWzA/s96-c/photo.jpg\",\"email\":\"chandarob21@gmail.com\",\"familyName\":\"Chanda\",\"givenName\":\"Rob\",\"name\":\"Rob Chanda\",\"id\":\"112432787910622342364\"}},\"loginStatus\":true}},\"currentHomeScreenState\":{\"activeSection\":{\"ActiveCards\":[]},\"copingCrisisSection\":{\"CopingCrisisCards\":[]},\"homeSectionHeaders\":[{\"text\":\"My Barriers to seek professional help\",\"itemSection\":\"homeBarriersHeader\",\"colors\":[\"#D3ECFB\",\"#D3ECFB\",\"#D3ECFB\"],\"locations\":[1,1,1]},{\"text\":\"My Self Discovery\",\"itemSection\":\"homeSelfDiscoveryHeader\",\"colors\":[\"#FDDAC0\",\"#FDDAC0\"],\"locations\":[0.51,0.51]},{\"text\":\"Our suggestions for you\",\"itemSection\":\"homeInactiveHeader\",\"colors\":[\"#ffffff\",\"#ffffff\"]}],\"inActiveSection\":{\"InActiveCards\":[{\"componentKey\":\"letsTalk\",\"title\":\"Coping with Crisis\",\"description\":\"\",\"progress\":0,\"sectionImageShow\":true,\"cardImageShow\":true,\"sectionBodyDescriptionShow\":true,\"sectionBodyIconShow\":true,\"goto\":\"copingWithCrisis\",\"themeColor\":\"#B6AEDA\",\"sectionHeaderRepresentative\":{\"text\":\"My Coping with Crisis\",\"itemSection\":\"homeCopingCrisisHeader\",\"colors\":[\"#E1BBFF\",\"#E1BBFF\"],\"locations\":[0.51,0.51]}}]},\"barrierSection\":{\"BarrierCards\":[{\"componentKey\":\"Prefer help from family or friends\",\"title\":\"Prefer help from family or friends\",\"description\":\"\",\"progress\":33.3,\"sectionImageShow\":true,\"cardImageShow\":true,\"sectionBodyDescriptionShow\":true,\"sectionBodyIconShow\":true,\"goto\":\"barrierTwoFirst\",\"themeColor\":\"#2D9CDB\",\"progressBackgroundColor\":\"#D3ECFB\"},{\"componentKey\":\"Prefer help from family or friends\",\"title\":\"Prefer help from family or friends\",\"description\":\"\",\"progress\":33.3,\"sectionImageShow\":true,\"cardImageShow\":true,\"sectionBodyDescriptionShow\":true,\"sectionBodyIconShow\":true,\"goto\":\"barrierTwoFirst\",\"themeColor\":\"#2D9CDB\",\"progressBackgroundColor\":\"#D3ECFB\"},{\"componentKey\":\"Others don’t think it’s a problem\",\"title\":\"Others don’t think it’s a problem\",\"description\":\"\",\"progress\":33.3,\"sectionImageShow\":true,\"cardImageShow\":true,\"sectionBodyDescriptionShow\":true,\"sectionBodyIconShow\":true,\"goto\":\"barrierSix\",\"themeColor\":\"#2D9CDB\",\"progressBackgroundColor\":\"#D3ECFB\"}]},\"selfDiscoverySection\":{\"SelfDiscoveryCards\":[{\"componentKey\":\"HOME_SD_LEVEL_1\",\"title\":\"Weight of my problem\",\"description\":\"\",\"progress\":33.3,\"sectionImageShow\":true,\"cardImageShow\":true,\"sectionBodyDescriptionShow\":true,\"sectionBodyIconShow\":true,\"goto\":\"sdLevel1\",\"themeColor\":\"#FF9A51\",\"progressBackgroundColor\":\"#FFD8BB\"},{\"componentKey\":\"HOME_SD_LEVEL_2\",\"title\":\"Familiar stories\",\"description\":\"\",\"progress\":33.3,\"sectionImageShow\":true,\"cardImageShow\":true,\"sectionBodyDescriptionShow\":true,\"sectionBodyIconShow\":true,\"goto\":\"sdLevel2\",\"themeColor\":\"#FF9A51\",\"progressBackgroundColor\":\"#FFD8BB\"}]}},\"selfDiscoveryState\":{\"showBackButtonModal\":false,\"level3\":{\"isLocked\":true,\"progressValue\":12.5,\"responses\":{\"GADSectionResponse\":{},\"PHQSectionResponse\":{},\"WsasResponse\":{}},\"homeState\":{\"anxiousCard\":{\"completed\":false,\"locked\":true},\"lowCard\":{\"completed\":false,\"locked\":true},\"functioningCard\":{\"completed\":false,\"locked\":true},\"result\":{\"completed\":false,\"locked\":true},\"homeTypeChosen\":null}},\"showIntro\":false,\"sdLevel1ReportChosen\":\"SECOND_REPORT_CHOSEN\",\"level1\":{\"isLocked\":false,\"responses\":{\"1\":{\"answer\":\"a week\",\"prev\":null,\"next\":2},\"2\":{\"answer\":\"rarely\",\"prev\":1,\"next\":3},\"3\":{\"answer\":\"rarely\",\"prev\":2,\"next\":4},\"4\":{\"answer\":\"not confident at all\",\"prev\":3,\"next\":null}},\"progressValue\":100},\"level2\":{\"progressValue\":12.5,\"isLocked\":false,\"responses\":{\"VignetteSectionResponse\":{},\"DiscoveringEmotionResponse\":{\"quid1\":{\"answer\":{\"quid1\":{\"1\":false,\"2\":false,\"3\":true,\"4\":false}},\"next\":\"quid2\",\"prev\":\"quid1\"}}}}},\"breakingBarrierState\":{\"showBackButtonModal\":false,\"showSelectedMenu\":true,\"expertVideoWatched\":false,\"clientVideoWatched\":false,\"currentBarrierIndex\":0,\"barriersState\":{\"It’s just a passing phase\":{\"responses\":{}},\"Prefer help from family or friends\":{\"responses\":{}},\"Counselling will mean I’m weak\":{\"responses\":{}},\"Afraid how it affects my job or family\":{\"responses\":{}},\"Fear of negative labels\":{\"responses\":{}},\"Others don’t think it’s a problem\":{\"responses\":{}},\"Difficult to get support to seek help\":{\"responses\":{}},\"Talking might make it worse\":{\"responses\":{}},\"Dislike talking about my feelings\":{\"responses\":{}},\"Doubts about treatment options\":{\"responses\":{\"Doubts about treatment options\":{}}},\"Afraid to consult a professional again\":{\"responses\":{}},\"Doubtful if therapy helps\":{\"responses\":{}},\"I don’t trust therapists\":{\"responses\":{}},\"Inaccessibility of services\":{\"responses\":{}},\"Professional help is costly\":{\"responses\":{}},\"No time to consult\":{\"responses\":{\"No time to consult\":{}}},\"Difficult to leave home\":{\"responses\":{}}},\"showIntro\":false,\"showMenu\":false,\"completedBarriers\":[\"Prefer help from family or friends\"],\"selectedBarriers\":[\"Others don’t think it’s a problem\"],\"transitComponentList\":[\"barrierFeedback\",\"barrierExpertVideo\"]},\"copingWithCrisisState\":{\"showIntro\":true,\"showBackButtonModal\":false,\"cclevel1\":{\"isLocked\":false,\"progressValue\":100,\"responses\":{}},\"cclevel2\":{\"isLocked\":false,\"progressValue\":12.5,\"responses\":{}},\"cclevel3\":{\"isLocked\":true,\"progressValue\":12.5,\"responses\":{\"crisisStoreContact\":{},\"crisisCreatePlan\":{},\"crisisSendTrustedPersonMessage\":{}}}},\"selfCriticalityState\":{\"showMainIntro\":true,\"showBackButtonModal\":false,\"showSelectedMenu\":false,\"level1\":{\"isLocked\":false,\"progressValue\":12.5,\"responses\":{}},\"level2\":{\"isLocked\":true,\"progressValue\":12.5,\"responses\":{}},\"level3\":{\"isLocked\":true,\"progressValue\":12.5,\"reminder\":\"\",\"responses\":{}}},\"managingWorryState\":{\"showMainIntro\":true,\"showBackButtonModal\":false,\"showSelectedMenu\":false,\"level1\":{\"isLocked\":false,\"progressValue\":12.5,\"responses\":{}},\"level2\":{\"isLocked\":true,\"progressValue\":12.5,\"startDate\":\"\",\"endDate\":\"\",\"time\":\"\",\"duration\":\"\",\"responses\":{}},\"level3\":{\"isLocked\":true,\"progressValue\":12.5,\"responses\":{}}},\"negativeThoughtsState\":{\"showMainIntro\":true,\"showBackButtonModal\":false,\"showSelectedMenu\":false,\"level1\":{\"isLocked\":false,\"progressValue\":12.5,\"responses\":{}},\"level2\":{\"isLocked\":true,\"progressValue\":12.5,\"responses\":{}},\"level3\":{\"isLocked\":true,\"progressValue\":12.5,\"responses\":{}}},\"calmingSoothingState\":{\"showMainIntro\":true,\"showBackButtonModal\":false,\"showSelectedMenu\":false,\"level1\":{\"isLocked\":false,\"progressValue\":12.5,\"responses\":{}},\"level2\":{\"isLocked\":true,\"progressValue\":12.5,\"responses\":{}},\"level3\":{\"isLocked\":true,\"progressValue\":12.5,\"reminder\":\"\",\"responses\":{}}},\"_persist\":{\"version\":-1,\"rehydrated\":true}}'"
      ]
     },
     "execution_count": 8,
     "metadata": {},
     "output_type": "execute_result"
    }
   ],
   "source": [
    "df[\"AppState\"][0]"
   ]
  },
  {
   "cell_type": "code",
   "execution_count": 9,
   "id": "53ab1374",
   "metadata": {},
   "outputs": [
    {
     "name": "stdout",
     "output_type": "stream",
     "text": [
      "Collecting json_viewer\n",
      "  Downloading json_viewer-0.1.3.tar.gz (2.6 kB)\n",
      "Collecting PyQt5\n",
      "  Downloading PyQt5-5.15.4-cp36.cp37.cp38.cp39-abi3-manylinux2014_x86_64.whl (8.3 MB)\n",
      "\u001b[K     |████████████████████████████████| 8.3 MB 1.0 MB/s eta 0:00:01\n",
      "\u001b[?25hCollecting PyQt5-sip\n",
      "  Downloading PyQt5_sip-12.9.0-cp36-cp36m-manylinux1_x86_64.whl (313 kB)\n",
      "\u001b[K     |████████████████████████████████| 313 kB 20.1 MB/s eta 0:00:01\n",
      "\u001b[?25hCollecting PyQt5-Qt5>=5.15\n",
      "  Downloading PyQt5_Qt5-5.15.2-py3-none-manylinux2014_x86_64.whl (59.9 MB)\n",
      "\u001b[K     |████████████████████████████████| 59.9 MB 86 kB/s s eta 0:00:01     |███████████████████████████████ | 58.0 MB 29.7 MB/s eta 0:00:01\n",
      "\u001b[?25hBuilding wheels for collected packages: json-viewer\n",
      "  Building wheel for json-viewer (setup.py) ... \u001b[?25ldone\n",
      "\u001b[?25h  Created wheel for json-viewer: filename=json_viewer-0.1.3-py3-none-any.whl size=2997 sha256=a0f4da1e298b3df220d29a95d2375b0ee7c5a2ee7054411d39063209fbc3351b\n",
      "  Stored in directory: /home/azureuser/.cache/pip/wheels/06/eb/d1/c3412495478e896f5f89ed872bdee47e55fb727ec8ffcee7a8\n",
      "Successfully built json-viewer\n",
      "Installing collected packages: PyQt5-sip, PyQt5-Qt5, PyQt5, json-viewer\n",
      "Successfully installed PyQt5-5.15.4 PyQt5-Qt5-5.15.2 PyQt5-sip-12.9.0 json-viewer-0.1.3\n"
     ]
    }
   ],
   "source": [
    "!pip install json_viewer"
   ]
  },
  {
   "cell_type": "code",
   "execution_count": 14,
   "id": "d87a2530",
   "metadata": {},
   "outputs": [
    {
     "ename": "SyntaxError",
     "evalue": "invalid syntax (<ipython-input-14-e39c3ce081fd>, line 1)",
     "output_type": "error",
     "traceback": [
      "\u001b[0;36m  File \u001b[0;32m\"<ipython-input-14-e39c3ce081fd>\"\u001b[0;36m, line \u001b[0;32m1\u001b[0m\n\u001b[0;31m    json_viewer sample.json\u001b[0m\n\u001b[0m                     ^\u001b[0m\n\u001b[0;31mSyntaxError\u001b[0m\u001b[0;31m:\u001b[0m invalid syntax\n"
     ]
    }
   ],
   "source": [
    "json_viewer sample.json"
   ]
  },
  {
   "cell_type": "code",
   "execution_count": null,
   "id": "6ccc4323",
   "metadata": {},
   "outputs": [],
   "source": []
  }
 ],
 "metadata": {
  "kernelspec": {
   "display_name": "Python 3.6 - AzureML",
   "language": "python",
   "name": "python3-azureml"
  },
  "language_info": {
   "codemirror_mode": {
    "name": "ipython",
    "version": 3
   },
   "file_extension": ".py",
   "mimetype": "text/x-python",
   "name": "python",
   "nbconvert_exporter": "python",
   "pygments_lexer": "ipython3",
   "version": "3.6.9"
  }
 },
 "nbformat": 4,
 "nbformat_minor": 5
}
